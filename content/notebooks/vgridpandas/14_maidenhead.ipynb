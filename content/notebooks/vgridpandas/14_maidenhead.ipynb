{
 "cells": [
  {
   "cell_type": "markdown",
   "metadata": {},
   "source": [
    "## Maidenhead key features\n",
    "\n",
    "You can try out vgridpandas by using the cloud-computing platforms below without having to install anything on your computer:\n",
    "\n",
    "[![image](https://jupyterlite.rtfd.io/en/latest/_static/badge.svg)](https://demo.gishub.vn/lab/index.html?path=notebooks/vgridpandas/14_maidenhead.ipynb)\n",
    "[![image](https://colab.research.google.com/assets/colab-badge.svg)](https://colab.research.google.com/github/opengeoshub/vgridpandas/blob/master)\n",
    "[![image](https://mybinder.org/badge_logo.svg)](https://mybinder.org/v2/gh/opengeoshub/vgridpandas/HEAD)"
   ]
  },
  {
   "cell_type": "markdown",
   "metadata": {},
   "source": [
    "### Install vgridpandas"
   ]
  },
  {
   "cell_type": "code",
   "execution_count": null,
   "metadata": {},
   "outputs": [],
   "source": [
    "# %pip install vgridpandas"
   ]
  },
  {
   "cell_type": "markdown",
   "metadata": {},
   "source": [
    "### Latlong to Maidenhead"
   ]
  },
  {
   "cell_type": "code",
   "execution_count": null,
   "metadata": {},
   "outputs": [],
   "source": [
    "import pandas as pd\n",
    "from vgridpandas import maidenheadpandas             \n",
    "df = pd.read_csv('https://github.com/uber-web/kepler.gl-data/raw/master/nyctrips/data.csv')\n",
    "df = df.head(100)\n",
    "df = df.rename({'pickup_longitude': 'lon', 'pickup_latitude': 'lat'}, axis=1)[['lon', 'lat', 'passenger_count']]\n",
    "resolution = 3\n",
    "df = df.maidenhead.latlon2maidenhead(resolution)\n",
    "df.head()"
   ]
  },
  {
   "cell_type": "markdown",
   "metadata": {},
   "source": [
    "### Maidenhead to geo boundary"
   ]
  },
  {
   "cell_type": "code",
   "execution_count": null,
   "metadata": {},
   "outputs": [],
   "source": [
    "df = df.maidenhead.maidenhead2geo()\n",
    "df"
   ]
  },
  {
   "cell_type": "markdown",
   "metadata": {},
   "source": [
    "### Maidenhead point binning"
   ]
  },
  {
   "cell_type": "code",
   "execution_count": null,
   "metadata": {},
   "outputs": [],
   "source": [
    "from vgridpandas import maidenheadpandas\n",
    "import geopandas as gpd\n",
    "\n",
    "# df = pd.read_csv(\"https://raw.githubusercontent.com/opengeoshub/vopendata/refs/heads/main/csv/dist1_pois.csv\")\n",
    "df = gpd.read_file(\"https://raw.githubusercontent.com/opengeoshub/vopendata/refs/heads/main/shape/dist1_pois.geojson\")\n",
    "resolution = 4\n",
    "stats = \"count\"\n",
    "df_bin = df.maidenhead.maidenheadbin(resolution=resolution, stats = stats, \n",
    "                                # numeric_column=\"confidence\",\n",
    "                                # category_column=\"category\",\n",
    "                                return_geometry=True)\n",
    "df_bin.plot(        \n",
    "    column=stats,        # numeric column to base the colors on\n",
    "    cmap='Spectral_r',        # color scheme (matplotlib colormap)\n",
    "    legend=True,  \n",
    "    linewidth=0.2          # boundary width (optional)\n",
    ")"
   ]
  }
 ],
 "metadata": {
  "jupytext": {
   "default_lexer": "ipython3"
  },
  "kernelspec": {
   "display_name": ".venv",
   "language": "python",
   "name": "python3"
  }
 },
 "nbformat": 4,
 "nbformat_minor": 5
}
