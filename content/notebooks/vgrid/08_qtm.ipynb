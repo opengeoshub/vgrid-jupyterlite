{
 "cells": [
  {
   "cell_type": "markdown",
   "metadata": {},
   "source": [
    "## Working with QTM in Vgrid DGGS\n",
    "\n",
    "[![image](https://jupyterlite.rtfd.io/en/latest/_static/badge.svg)](https://demo.gishub.vn/lab/index.html?path=notebooks/vgrid/07_qtm.ipynb)\n",
    "[![image](https://colab.research.google.com/assets/colab-badge.svg)](https://colab.research.google.com/github/opengeoshub/vgrid/blob/master)\n",
    "[![image](https://mybinder.org/badge_logo.svg)](https://mybinder.org/v2/gh/opengeoshub/vgrid/HEAD)\n",
    "\n",
    "Full Vgrid DGGS documentation is available at [vgrid document](https://vgrid.gishub.vn).\n",
    "\n",
    "To work with Vgrid DGGS directly in GeoPandas and Pandas, please use [vgridpandas](https://pypi.org/project/vgridpandas/). Full Vgridpandas DGGS documentation is available at [vgridpandas document](https://vgridpandas.gishub.vn).\n",
    "\n",
    "To work with Vgrid DGGS in QGIS, please use [Vgrid Plugin](https://plugins.qgis.org/plugins/vgridtools/)."
   ]
  },
  {
   "cell_type": "markdown",
   "metadata": {},
   "source": [
    "### Install vgrid\n",
    "Uncomment the following line to install [vgrid](https://pypi.org/project/vgrid/) if needed."
   ]
  },
  {
   "cell_type": "code",
   "execution_count": null,
   "metadata": {},
   "outputs": [],
   "source": [
    "# %pip install vgrid --upgrade"
   ]
  },
  {
   "cell_type": "markdown",
   "metadata": {},
   "source": [
    "### latlon2qtm"
   ]
  },
  {
   "cell_type": "code",
   "execution_count": null,
   "metadata": {},
   "outputs": [],
   "source": [
    "from vgrid.conversion.latlon2dggs import latlon2qtm\n",
    "\n",
    "lat = 10.775276\n",
    "lon = 106.706797\n",
    "res = 14\n",
    "qtm_id = latlon2qtm(lat, lon, res)\n",
    "qtm_id"
   ]
  },
  {
   "cell_type": "markdown",
   "metadata": {},
   "source": [
    "### QTM to Shapely Polygon"
   ]
  },
  {
   "cell_type": "code",
   "execution_count": null,
   "metadata": {},
   "outputs": [],
   "source": [
    "from vgrid.conversion.dggs2geo.qtm2geo  import qtm2geo\n",
    "\n",
    "qtm_geo = qtm2geo(qtm_id)\n",
    "qtm_geo"
   ]
  },
  {
   "cell_type": "markdown",
   "metadata": {},
   "source": [
    "### QTM to GeoJSON"
   ]
  },
  {
   "cell_type": "code",
   "execution_count": null,
   "metadata": {},
   "outputs": [],
   "source": [
    "from vgrid.conversion.dggs2geo.qtm2geo import qtm2geojson\n",
    "\n",
    "qtm_geojson = qtm2geojson(qtm_id)\n",
    "qtm_geojson"
   ]
  },
  {
   "cell_type": "markdown",
   "metadata": {},
   "source": [
    "### Vector to QTM"
   ]
  },
  {
   "cell_type": "code",
   "execution_count": null,
   "metadata": {},
   "outputs": [],
   "source": [
    "from vgrid.conversion.vector2dggs.vector2qtm import vector2qtm\n",
    "\n",
    "file_path = (\n",
    "    \"https://raw.githubusercontent.com/opengeoshub/vopendata/main/shape/polygon.geojson\"\n",
    ")\n",
    "vector_to_qtm = vector2qtm(file_path, resolution=17, compact=False, \n",
    "                            predicate = \"intersects\", output_format=\"gpd\")\n",
    "# Visualize the output\n",
    "vector_to_qtm.explore(tiles=\"CartoDB Positron\")"
   ]
  },
  {
   "cell_type": "markdown",
   "metadata": {},
   "source": [
    "### QTM Compact"
   ]
  },
  {
   "cell_type": "code",
   "execution_count": null,
   "metadata": {},
   "outputs": [],
   "source": [
    "from vgrid.conversion.dggscompact import qtmcompact\n",
    "\n",
    "qtm_compacted = qtmcompact(vector_to_qtm, qtm_id=\"qtm\", output_format=\"gpd\")\n",
    "qtm_compacted.plot(edgecolor=\"white\")"
   ]
  },
  {
   "cell_type": "markdown",
   "metadata": {},
   "source": [
    "### QTM Expand"
   ]
  },
  {
   "cell_type": "code",
   "execution_count": null,
   "metadata": {},
   "outputs": [],
   "source": [
    "from vgrid.conversion.dggscompact import qtmexpand\n",
    "\n",
    "qtm_expanded = qtmexpand(vector_to_qtm, resolution=18, qtm_id=\"qtm\", output_format=\"gpd\")\n",
    "qtm_expanded.plot(edgecolor=\"white\")"
   ]
  },
  {
   "cell_type": "markdown",
   "metadata": {},
   "source": [
    "### QTM Binning"
   ]
  },
  {
   "cell_type": "code",
   "execution_count": null,
   "metadata": {},
   "outputs": [],
   "source": [
    "from vgrid.binning.qtmbin import qtmbin\n",
    "import geopandas as gpd\n",
    "file_path = (\n",
    "    \"https://raw.githubusercontent.com/opengeoshub/vopendata/main/csv/dist1_pois.csv\"\n",
    ")\n",
    "stats = \"count\"\n",
    "qtm_bin = qtmbin(file_path, resolution=16, stats=stats, \n",
    "                # numeric_field=\"confidence\",\n",
    "                # category=\"category\",\n",
    "                output_format=\"gpd\")\n",
    "qtm_bin.head()"
   ]
  },
  {
   "cell_type": "markdown",
   "metadata": {},
   "source": [
    "### Raster to QTM"
   ]
  },
  {
   "cell_type": "code",
   "execution_count": null,
   "metadata": {},
   "outputs": [],
   "source": [
    "# %pip install folium"
   ]
  },
  {
   "cell_type": "code",
   "execution_count": null,
   "metadata": {},
   "outputs": [],
   "source": [
    "from vgrid.conversion.raster2dggs.raster2qtm import raster2qtm\n",
    "from vgrid.utils.io import download_file          \n",
    "\n",
    "raster_url = (\n",
    "    \"https://raw.githubusercontent.com/opengeoshub/vopendata/main/raster/rgb.tif\"\n",
    ")\n",
    "raster_file = download_file(raster_url)\n",
    "\n",
    "raster_to_qtm =  raster2qtm(raster_file,output_format=\"gpd\")\n",
    "\n",
    "# Visualize the output\n",
    "import folium\n",
    "\n",
    "m = folium.Map(tiles=\"CartoDB positron\", max_zoom=28)\n",
    "\n",
    "qtm_layer = folium.GeoJson(\n",
    "    raster_to_qtm,\n",
    "    style_function=lambda x: {\n",
    "        \"fillColor\": f\"rgb({x['properties']['band_1']}, {x['properties']['band_2']}, {x['properties']['band_3']})\",\n",
    "        \"fillOpacity\": 1,\n",
    "        \"color\": \"black\",\n",
    "        \"weight\": 1,\n",
    "    },\n",
    "    popup=folium.GeoJsonPopup(\n",
    "        fields=[\"qtm\", \"band_1\", \"band_2\", \"band_3\"],\n",
    "        aliases=[\"QTM ID\", \"Band 1\", \"Band 2\", \"Band 3\"],\n",
    "        style=\"\"\"\n",
    "            background-color: white;\n",
    "            border: 2px solid black;\n",
    "            border-radius: 3px;\n",
    "            box-shadow: 3px;\n",
    "        \"\"\",\n",
    "    ),\n",
    ").add_to(m)\n",
    "\n",
    "m.fit_bounds(qtm_layer.get_bounds())\n",
    "\n",
    "# Display the map\n",
    "m"
   ]
  },
  {
   "cell_type": "markdown",
   "metadata": {},
   "source": [
    "### QTM Generator"
   ]
  },
  {
   "cell_type": "code",
   "execution_count": null,
   "metadata": {},
   "outputs": [],
   "source": [
    "from vgrid.generator.qtmgrid import qtmgrid\n",
    "qtm_grid = qtmgrid(resolution=3,output_format=\"gpd\")\n",
    "# qtm_grid = qtmgrid(resolution=18,bbox=[106.699007, 10.762811, 106.717674, 10.778649],output_format=\"gpd\")\n",
    "qtm_grid.plot(edgecolor='white')"
   ]
  },
  {
   "cell_type": "markdown",
   "metadata": {},
   "source": [
    "### QTM Statistics"
   ]
  },
  {
   "cell_type": "code",
   "execution_count": null,
   "metadata": {},
   "outputs": [],
   "source": [
    "from vgrid.stats import qtmstats\n",
    "qtmstats()"
   ]
  }
 ],
 "metadata": {
  "jupytext": {
   "default_lexer": "ipython3"
  },
  "kernelspec": {
   "display_name": ".venv",
   "language": "python",
   "name": "python3"
  }
 },
 "nbformat": 4,
 "nbformat_minor": 5
}
