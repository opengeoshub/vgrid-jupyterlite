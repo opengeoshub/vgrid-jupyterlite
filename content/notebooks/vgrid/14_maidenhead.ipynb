{
 "cells": [
  {
   "cell_type": "markdown",
   "metadata": {},
   "source": [
    "## Working with Maidenhead in Vgrid DGGS\n",
    "\n",
    "[![image](https://jupyterlite.rtfd.io/en/latest/_static/badge.svg)](https://demo.gishub.vn/lab/index.html?path=notebooks/vgrid/14_maidenhead.ipynb)\n",
    "[![image](https://colab.research.google.com/assets/colab-badge.svg)](https://colab.research.google.com/github/opengeoshub/vgrid/blob/master)\n",
    "[![image](https://mybinder.org/badge_logo.svg)](https://mybinder.org/v2/gh/opengeoshub/vgrid/HEAD)\n",
    "\n",
    "For working with Vgrid DGGS directly in GeoPandas and Pandas, please use [vgridpandas](https://pypi.org/project/vgridpandas/), [vgridpandas document](https://vgridpandas.gishub.vn)"
   ]
  },
  {
   "cell_type": "markdown",
   "metadata": {},
   "source": [
    "### Install vgrid\n",
    "Uncomment the following line to install [vgrid](https://pypi.org/project/vgrid/) if needed."
   ]
  },
  {
   "cell_type": "code",
   "execution_count": null,
   "metadata": {},
   "outputs": [],
   "source": [
    "# %pip install vgrid --upgrade"
   ]
  },
  {
   "cell_type": "markdown",
   "metadata": {},
   "source": [
    "### latlon2maidenhead"
   ]
  },
  {
   "cell_type": "code",
   "execution_count": null,
   "metadata": {},
   "outputs": [],
   "source": [
    "from vgrid.conversion.latlon2dggs import latlon2maidenhead\n",
    "\n",
    "lat = 10.775276\n",
    "lon = 106.706797\n",
    "res = 3\n",
    "maidenhead_id = latlon2maidenhead(lat, lon, res)\n",
    "maidenhead_id"
   ]
  },
  {
   "cell_type": "markdown",
   "metadata": {},
   "source": [
    "### Maidenhead to Shapely Polygons"
   ]
  },
  {
   "cell_type": "code",
   "execution_count": null,
   "metadata": {},
   "outputs": [],
   "source": [
    "from vgrid.conversion.dggs2geo.maidenhead2geo  import maidenhead2geo\n",
    "\n",
    "maidenhead_geo = maidenhead2geo(maidenhead_id)\n",
    "maidenhead_geo"
   ]
  },
  {
   "cell_type": "markdown",
   "metadata": {},
   "source": [
    "### Maidenhead to GeoJSON"
   ]
  },
  {
   "cell_type": "code",
   "execution_count": null,
   "metadata": {},
   "outputs": [],
   "source": [
    "from vgrid.conversion.dggs2geo.maidenhead2geo import maidenhead2geojson\n",
    "\n",
    "maidenhead_geojson = maidenhead2geojson(maidenhead_id)\n",
    "maidenhead_geojson"
   ]
  },
  {
   "cell_type": "markdown",
   "metadata": {},
   "source": [
    "### Maidenhead Grid Generator"
   ]
  },
  {
   "cell_type": "code",
   "execution_count": null,
   "metadata": {},
   "outputs": [],
   "source": [
    "from vgrid.generator.maidenheadgrid import maidenheadgrid\n",
    "# maidenhead_grid = maidenheadgrid(resolution=1,output_format=\"gpd\")\n",
    "maidenhead_grid = maidenheadgrid(resolution=4,bbox=[106.699007, 10.762811, 106.717674, 10.778649],output_format=\"gpd\")\n",
    "maidenhead_grid.plot(edgecolor=\"white\")"
   ]
  },
  {
   "cell_type": "markdown",
   "metadata": {},
   "source": [
    "### Maidenhead Statistics"
   ]
  },
  {
   "cell_type": "code",
   "execution_count": null,
   "metadata": {},
   "outputs": [],
   "source": [
    "from vgrid.stats import maidenheadstats            \n",
    "maidenheadstats()"
   ]
  }
 ],
 "metadata": {
  "jupytext": {
   "default_lexer": "ipython3"
  },
  "kernelspec": {
   "display_name": ".venv",
   "language": "python",
   "name": "python3"
  }
 },
 "nbformat": 4,
 "nbformat_minor": 5
}
