{
 "cells": [
  {
   "cell_type": "markdown",
   "metadata": {},
   "source": [
    "## Working with Quadkey in Vgrid DGGS\n",
    "\n",
    "[![image](https://jupyterlite.rtfd.io/en/latest/_static/badge.svg)](https://demo.gishub.vn/lab/index.html?path=notebooks/vgrid/13_quadkey.ipynb)\n",
    "[![image](https://colab.research.google.com/assets/colab-badge.svg)](https://colab.research.google.com/github/opengeoshub/vgrid/blob/master)\n",
    "[![image](https://mybinder.org/badge_logo.svg)](https://mybinder.org/v2/gh/opengeoshub/vgrid/HEAD)\n",
    "\n",
    "For working with Vgrid DGGS directly in GeoPandas and Pandas, please use [vgridpandas](https://pypi.org/project/vgridpandas/), [vgridpandas document](https://vgridpandas.gishub.vn)"
   ]
  },
  {
   "cell_type": "markdown",
   "metadata": {},
   "source": [
    "### Install vgrid\n",
    "Uncomment the following line to install [vgrid](https://pypi.org/project/vgrid/) if needed."
   ]
  },
  {
   "cell_type": "code",
   "execution_count": null,
   "metadata": {},
   "outputs": [],
   "source": [
    "# %pip install vgrid --upgrade"
   ]
  },
  {
   "cell_type": "markdown",
   "metadata": {},
   "source": [
    "### latlon2quadkey"
   ]
  },
  {
   "cell_type": "code",
   "execution_count": null,
   "metadata": {},
   "outputs": [],
   "source": [
    "from vgrid.conversion.latlon2dggs import latlon2quadkey\n",
    "\n",
    "lat = 10.775276\n",
    "lon = 106.706797\n",
    "res = 14\n",
    "quadkey_id = latlon2quadkey(lat, lon, res)\n",
    "quadkey_id"
   ]
  },
  {
   "cell_type": "markdown",
   "metadata": {},
   "source": [
    "### Quadkey to Shapely Polygons"
   ]
  },
  {
   "cell_type": "code",
   "execution_count": null,
   "metadata": {},
   "outputs": [],
   "source": [
    "from vgrid.conversion.dggs2geo.quadkey2geo  import quadkey2geo\n",
    "\n",
    "quadkey_geo = quadkey2geo(quadkey_id)\n",
    "quadkey_geo"
   ]
  },
  {
   "cell_type": "markdown",
   "metadata": {},
   "source": [
    "### Quadkey to GeoJSON"
   ]
  },
  {
   "cell_type": "code",
   "execution_count": null,
   "metadata": {},
   "outputs": [],
   "source": [
    "from vgrid.conversion.dggs2geo.quadkey2geo import quadkey2geojson\n",
    "\n",
    "quadkey_geojson = quadkey2geojson(quadkey_id)\n",
    "quadkey_geojson"
   ]
  },
  {
   "cell_type": "markdown",
   "metadata": {},
   "source": [
    "### Vector to Quadkey"
   ]
  },
  {
   "cell_type": "code",
   "execution_count": null,
   "metadata": {},
   "outputs": [],
   "source": [
    "# %pip install folium"
   ]
  },
  {
   "cell_type": "code",
   "execution_count": null,
   "metadata": {},
   "outputs": [],
   "source": [
    "from vgrid.conversion.vector2dggs.vector2quadkey import vector2quadkey\n",
    "\n",
    "file_path = (\n",
    "    \"https://raw.githubusercontent.com/opengeoshub/vopendata/main/shape/polygon.geojson\"\n",
    ")\n",
    "quadkey_geojson = vector2quadkey(file_path, resolution=18, compact=False, predicate = \"intersects\")\n",
    "# Change compact to True to see the compact version of the rHEALPix cells\n",
    "\n",
    "# Visualize the output GeoJSON\n",
    "import folium\n",
    "\n",
    "m = folium.Map(tiles=\"CartoDB positron\")\n",
    "\n",
    "quadkey_layer = folium.GeoJson(\n",
    "quadkey_geojson,\n",
    "style_function=lambda x: {\n",
    "    \"fillColor\": \"blue\",\n",
    "    \"color\": \"black\",\n",
    "    \"fillOpacity\": 0.3,\n",
    "    \"weight\": 1,\n",
    "},\n",
    "tooltip=folium.GeoJsonTooltip(\n",
    "    fields=[\"quadkey\", \"resolution\", \"cell_area\"],\n",
    "    aliases=[\"quadkey ID\", \"Resolution\", \"Area (m²)\"],\n",
    "    style=\"\"\"\n",
    "        background-color: white;\n",
    "        border: 2px solid black;\n",
    "        border-radius: 3px;\n",
    "        box-shadow: 3px;\n",
    "    \"\"\",\n",
    "),\n",
    ").add_to(m)\n",
    "\n",
    "m.fit_bounds(quadkey_layer.get_bounds())\n",
    "\n",
    "# Display the map\n",
    "m"
   ]
  },
  {
   "cell_type": "markdown",
   "metadata": {},
   "source": [
    "### Quadkey Compact"
   ]
  },
  {
   "cell_type": "code",
   "execution_count": null,
   "metadata": {},
   "outputs": [],
   "source": [
    "from vgrid.conversion.dggscompact import quadkeycompact\n",
    "\n",
    "quadkey_compacted = quadkeycompact(\n",
    "    quadkey_geojson, quadkey_id=\"quadkey\"\n",
    ")\n",
    "\n",
    "# Visualize the output GeoJSON\n",
    "import folium\n",
    "\n",
    "m = folium.Map(tiles=\"CartoDB positron\")\n",
    "\n",
    "quadkey_compacted_layer = folium.GeoJson(\n",
    "    quadkey_compacted,\n",
    "    style_function=lambda x: {\n",
    "        \"fillColor\": \"blue\",\n",
    "        \"color\": \"black\",\n",
    "        \"fillOpacity\": 0.3,\n",
    "        \"weight\": 1,\n",
    "    },\n",
    "    tooltip=folium.GeoJsonTooltip(\n",
    "        fields=[\"quadkey\", \"resolution\", \"cell_area\"],\n",
    "        aliases=[\"quadkey ID\", \"Resolution\", \"Area (m²)\"],\n",
    "        style=\"\"\"\n",
    "            background-color: white;\n",
    "            border: 2px solid black;\n",
    "            border-radius: 3px;\n",
    "            box-shadow: 3px;\n",
    "        \"\"\",\n",
    "    ),\n",
    ").add_to(m)\n",
    "\n",
    "m.fit_bounds(quadkey_compacted_layer.get_bounds())\n",
    "\n",
    "# Display the map\n",
    "m"
   ]
  },
  {
   "cell_type": "markdown",
   "metadata": {},
   "source": [
    "### Quadkey Expand"
   ]
  },
  {
   "cell_type": "code",
   "execution_count": null,
   "metadata": {},
   "outputs": [],
   "source": [
    "from vgrid.conversion.dggscompact import quadkeyexpand\n",
    "\n",
    "quadkey_expanded = quadkeyexpand(\n",
    "    quadkey_geojson, resolution=19\n",
    ")\n",
    "\n",
    "# Visualize the output GeoJSON\n",
    "import folium\n",
    "\n",
    "m = folium.Map(tiles=\"CartoDB positron\")\n",
    "\n",
    "quadkey_expanded_layer = folium.GeoJson(\n",
    "    quadkey_expanded,\n",
    "    style_function=lambda x: {\n",
    "        \"fillColor\": \"blue\",\n",
    "        \"color\": \"black\",\n",
    "        \"fillOpacity\": 0.3,\n",
    "        \"weight\": 1,\n",
    "    },\n",
    "    tooltip=folium.GeoJsonTooltip(\n",
    "        fields=[\"quadkey\", \"resolution\", \"cell_area\"],\n",
    "        aliases=[\"quadkey ID\", \"Resolution\", \"Area (m²)\"],\n",
    "        style=\"\"\"\n",
    "            background-color: white;\n",
    "            border: 2px solid black;\n",
    "            border-radius: 3px;\n",
    "            box-shadow: 3px;\n",
    "        \"\"\",\n",
    "    ),\n",
    ").add_to(m)\n",
    "\n",
    "m.fit_bounds(quadkey_expanded_layer.get_bounds())\n",
    "\n",
    "# Display the map\n",
    "m"
   ]
  },
  {
   "cell_type": "markdown",
   "metadata": {},
   "source": [
    "### Quadkey Binning"
   ]
  },
  {
   "cell_type": "code",
   "execution_count": null,
   "metadata": {},
   "outputs": [],
   "source": [
    "from vgrid.binning.quadkeybin import quadkeybin\n",
    "import geopandas as gpd\n",
    "file_path = (\n",
    "    \"https://raw.githubusercontent.com/opengeoshub/vopendata/main/csv/dist1_pois.csv\"\n",
    ")\n",
    "quadkey_bin = quadkeybin(file_path, resolution=16, stats=\"count\")\n",
    "quadkey_bin"
   ]
  }
 ],
 "metadata": {
  "jupytext": {
   "default_lexer": "ipython3"
  },
  "kernelspec": {
   "display_name": ".venv",
   "language": "python",
   "name": "python3"
  }
 },
 "nbformat": 4,
 "nbformat_minor": 5
}
