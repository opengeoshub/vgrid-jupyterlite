{
 "cells": [
  {
   "cell_type": "markdown",
   "metadata": {},
   "source": [
    "# Working with H3 DGGS in Vgrid\n",
    "\n",
    "<!-- [![image](https://jupyterlite.rtfd.io/en/latest/_static/badge.svg)](https://demo.vgrid.org/lab/index.html?path=notebooks/00_conversion.ipynb) -->\n",
    "[![image](https://colab.research.google.com/assets/colab-badge.svg)](https://colab.research.google.com/github/opengeoshub/vgrid/blob/master)\n",
    "[![image](https://mybinder.org/badge_logo.svg)](https://mybinder.org/v2/gh/opengeoshub/vgrid/HEAD)"
   ]
  },
  {
   "cell_type": "markdown",
   "metadata": {},
   "source": [
    "## Install vgrid\n",
    "Uncomment the following line to install [vgrid](https://pypi.org/project/vgrid/) if needed."
   ]
  },
  {
   "cell_type": "code",
   "execution_count": null,
   "metadata": {},
   "outputs": [],
   "source": [
    "# %pip install vgrid --upgrade"
   ]
  },
  {
   "cell_type": "markdown",
   "metadata": {},
   "source": [
    "## latlon2h3"
   ]
  },
  {
   "cell_type": "code",
   "execution_count": null,
   "metadata": {},
   "outputs": [],
   "source": [
    "from vgrid.conversion.latlon2dggs import latlon2h3\n",
    "\n",
    "lat = 10.775276\n",
    "lon = 106.706797\n",
    "res = 9\n",
    "h3_id = latlon2h3(lat, lon, 10)\n",
    "print(h3_id)"
   ]
  },
  {
   "cell_type": "markdown",
   "metadata": {},
   "source": [
    "### Convert H3 ID to GeoJSON"
   ]
  },
  {
   "cell_type": "code",
   "execution_count": null,
   "metadata": {},
   "outputs": [],
   "source": [
    "from vgrid.conversion.dggs2geojson import h32geojson\n",
    "\n",
    "h3_geojson = h32geojson(h3_id)\n",
    "print(h3_geojson)"
   ]
  },
  {
   "cell_type": "markdown",
   "metadata": {},
   "source": [
    "### Visualize H3 cells using folium\n",
    "Install folium"
   ]
  },
  {
   "cell_type": "code",
   "execution_count": null,
   "metadata": {},
   "outputs": [],
   "source": [
    "%pip install folium"
   ]
  },
  {
   "cell_type": "markdown",
   "metadata": {},
   "source": [
    "Initialize the map and visualize H3 GeoJSON"
   ]
  },
  {
   "cell_type": "code",
   "execution_count": null,
   "metadata": {},
   "outputs": [],
   "source": [
    "import folium\n",
    "\n",
    "# Create a map centered at the H3 cell's center coordinates\n",
    "m = folium.Map(\n",
    "    location=[\n",
    "        h3_geojson[\"features\"][0][\"properties\"][\"center_lat\"],\n",
    "        h3_geojson[\"features\"][0][\"properties\"][\"center_lon\"],\n",
    "    ],\n",
    "    tiles=\"CartoDB positron\",\n",
    "    zoom_start=17,\n",
    ")\n",
    "# Add the GeoJSON to the map with a popup showing H3 properties\n",
    "folium.GeoJson(\n",
    "    h3_geojson,\n",
    "    style_function=lambda x: {\n",
    "        \"fillColor\": \"blue\",\n",
    "        \"color\": \"black\",\n",
    "        \"fillOpacity\": 0.3,\n",
    "        \"weight\": 1,\n",
    "    },\n",
    "    tooltip=folium.GeoJsonTooltip(\n",
    "        fields=[\"h3\", \"resolution\", \"cell_area\"],\n",
    "        aliases=[\"H3 ID\", \"Resolution\", \"Area (m²)\"],\n",
    "        style=\"\"\"\n",
    "            background-color: white;\n",
    "            border: 2px solid black;\n",
    "            border-radius: 3px;\n",
    "            box-shadow: 3px;\n",
    "        \"\"\",\n",
    "    ),\n",
    ").add_to(m)\n",
    "\n",
    "# Display the map\n",
    "m"
   ]
  },
  {
   "cell_type": "markdown",
   "metadata": {},
   "source": [
    "### Visualize H3 cells using leafmap[maplibre]\n",
    "Install leafmap[maplibre]"
   ]
  },
  {
   "cell_type": "code",
   "execution_count": null,
   "metadata": {},
   "outputs": [],
   "source": [
    "%pip install \"leafmap[maplibre]\""
   ]
  },
  {
   "cell_type": "markdown",
   "metadata": {},
   "source": [
    "Initialize the map and visualize H3 GeoJSON"
   ]
  },
  {
   "cell_type": "code",
   "execution_count": null,
   "metadata": {},
   "outputs": [],
   "source": [
    "import leafmap.maplibregl as leafmap\n",
    "\n",
    "m = leafmap.Map(style=\"positron\")\n",
    "m.add_geojson(\n",
    "    h3_geojson,\n",
    "    layer_type=\"fill\",\n",
    "    name=\"H3\",\n",
    "    paint={\"fill-color\": \"darkred\", \"fill-opacity\": 0.8},\n",
    ")\n",
    "m"
   ]
  }
 ],
 "metadata": {
  "jupytext": {
   "default_lexer": "ipython3"
  },
  "kernelspec": {
   "display_name": "Python 3",
   "language": "python",
   "name": "python3"
  }
 },
 "nbformat": 4,
 "nbformat_minor": 5
}
