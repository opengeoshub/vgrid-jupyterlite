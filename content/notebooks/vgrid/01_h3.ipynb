{
 "cells": [
  {
   "cell_type": "markdown",
   "metadata": {},
   "source": [
    "# Working with H3 in Vgrid DGGS\n",
    "\n",
    "[![image](https://jupyterlite.rtfd.io/en/latest/_static/badge.svg)](https://demo.gishub.vn/lab/index.html?path=notebooks/vgrid/01_h3.ipynb)\n",
    "[![image](https://colab.research.google.com/assets/colab-badge.svg)](https://colab.research.google.com/github/opengeoshub/vgrid/blob/master)\n",
    "[![image](https://mybinder.org/badge_logo.svg)](https://mybinder.org/v2/gh/opengeoshub/vgrid/HEAD)\n",
    "\n",
    "For working with Vgrid DGGS directly in GeoPandas and Pandas, please use [vgridpandas](https://pypi.org/project/vgridpandas/), [vgridpandas document](https://vgridpandas.gishub.vn)"
   ]
  },
  {
   "cell_type": "markdown",
   "metadata": {},
   "source": [
    "## Install vgrid\n",
    "Uncomment the following line to install [vgrid](https://pypi.org/project/vgrid/) if needed."
   ]
  },
  {
   "cell_type": "code",
   "execution_count": null,
   "metadata": {},
   "outputs": [],
   "source": [
    "# %pip install vgrid --upgrade"
   ]
  },
  {
   "cell_type": "markdown",
   "metadata": {},
   "source": [
    "## latlon2h3"
   ]
  },
  {
   "cell_type": "code",
   "execution_count": null,
   "metadata": {},
   "outputs": [],
   "source": [
    "from vgrid.conversion.latlon2dggs import latlon2h3\n",
    "\n",
    "lat = 10.775276\n",
    "lon = 106.706797\n",
    "res = 9\n",
    "h3_id = latlon2h3(lat, lon, 10)\n",
    "h3_id"
   ]
  },
  {
   "cell_type": "markdown",
   "metadata": {},
   "source": [
    "### H3 to Shapely Polygons"
   ]
  },
  {
   "cell_type": "code",
   "execution_count": null,
   "metadata": {},
   "outputs": [],
   "source": [
    "import geopandas as gpd\n",
    "from vgrid.conversion.dggs2geo.h32geo import h32geo\n",
    "h3_geo = h32geo([h3_id])\n",
    "h3_geo"
   ]
  },
  {
   "cell_type": "markdown",
   "metadata": {},
   "source": [
    "### H3 to GeoJSON"
   ]
  },
  {
   "cell_type": "code",
   "execution_count": null,
   "metadata": {},
   "outputs": [],
   "source": [
    "from vgrid.conversion.dggs2geo.h32geo import h32geojson\n",
    "\n",
    "h3_geojson = h32geojson(h3_id)\n",
    "h3_geojson"
   ]
  },
  {
   "cell_type": "markdown",
   "metadata": {},
   "source": [
    "### H3 Binning"
   ]
  },
  {
   "cell_type": "code",
   "execution_count": null,
   "metadata": {},
   "outputs": [],
   "source": [
    "from vgrid.binning.h3bin import h3bin\n",
    "import geopandas as gpd\n",
    "file_path = (\n",
    "    \"https://raw.githubusercontent.com/opengeoshub/vopendata/main/csv/dist1_pois.csv\"\n",
    ")\n",
    "h3_bin = h3bin(file_path, resolution=9, stats=\"count\")\n",
    "h3_bin"
   ]
  },
  {
   "cell_type": "markdown",
   "metadata": {},
   "source": [
    "### H3 Generator"
   ]
  },
  {
   "cell_type": "code",
   "execution_count": null,
   "metadata": {},
   "outputs": [],
   "source": [
    "from vgrid.generator.h3grid import h3grid\n",
    "\n",
    "h3_grid = h3grid(resolution=0,output_format=\"gpd\")\n",
    "h3_grid.plot(edgecolor='white')"
   ]
  },
  {
   "cell_type": "markdown",
   "metadata": {},
   "source": [
    "### H3 Statistics"
   ]
  },
  {
   "cell_type": "code",
   "execution_count": null,
   "metadata": {},
   "outputs": [],
   "source": [
    "from vgrid.stats.h3stats import h3stats\n",
    "h3stats()"
   ]
  }
 ],
 "metadata": {
  "jupytext": {
   "default_lexer": "ipython3"
  },
  "kernelspec": {
   "display_name": ".venv",
   "language": "python",
   "name": "python3"
  }
 },
 "nbformat": 4,
 "nbformat_minor": 5
}
