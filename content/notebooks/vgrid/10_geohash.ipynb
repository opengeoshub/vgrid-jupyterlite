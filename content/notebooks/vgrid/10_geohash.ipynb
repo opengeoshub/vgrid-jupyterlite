{
 "cells": [
  {
   "cell_type": "markdown",
   "metadata": {},
   "source": [
    "## Working withGgeohash in Vgrid DGGS\n",
    "\n",
    "[![image](https://jupyterlite.rtfd.io/en/latest/_static/badge.svg)](https://demo.vgrid.vn/lab/index.html?path=vgrid/10_geohash.ipynb)\n",
    "[![image](https://colab.research.google.com/assets/colab-badge.svg)](https://colab.research.google.com/github/opengeoshub/vgrid/blob/main/docs/notebooks/10_geohash.ipynb)\n",
    "[![image](https://mybinder.org/badge_logo.svg)](https://mybinder.org/v2/gh/opengeoshub/vgrid/HEAD?filepath=docs/notebooks/10_geohash.ipynb)\n",
    "[![image](https://studiolab.sagemaker.aws/studiolab.svg)](https://studiolab.sagemaker.aws/import/github/opengeoshub/vgrid/blob/main/docs/notebooks/10_geohash.ipynb)\n",
    "[![image](https://jupyterlite.rtfd.io/en/latest/_static/badge.svg)](https://demo.gishub.vn/lab/index.html?path=notebooks/vgrid/10_geohash.ipynb)\n",
    "\n",
    "Full Vgrid DGGS documentation is available at [vgrid document](https://vgrid.gishub.vn).\n",
    "\n",
    "To work with Vgrid DGGS directly in GeoPandas and Pandas, please use [vgridpandas](https://pypi.org/project/vgridpandas/). Full Vgridpandas DGGS documentation is available at [vgridpandas document](https://vgridpandas.gishub.vn).\n",
    "\n",
    "To work with Vgrid DGGS in QGIS, install the [Vgrid Plugin](https://plugins.qgis.org/plugins/vgridtools/).\n",
    "\n",
    "To visualize DGGS in Maplibre GL JS, try the [vgrid-maplibre](https://www.npmjs.com/package/vgrid-maplibre) library.\n",
    "\n",
    "For an interactive demo, visit the [Vgrid Homepage](https://vgrid.vn)."
   ]
  },
  {
   "cell_type": "markdown",
   "metadata": {},
   "source": [
    "### Install vgrid\n",
    "Uncomment the following line to install [vgrid](https://pypi.org/project/vgrid/)."
   ]
  },
  {
   "cell_type": "code",
   "execution_count": null,
   "metadata": {},
   "outputs": [],
   "source": [
    "# %pip install vgrid --upgrade"
   ]
  },
  {
   "cell_type": "markdown",
   "metadata": {},
   "source": [
    "### latlon2geohash"
   ]
  },
  {
   "cell_type": "code",
   "execution_count": null,
   "metadata": {},
   "outputs": [],
   "source": [
    "from vgrid.conversion.latlon2dggs import latlon2geohash\n",
    "\n",
    "lat = 10.775276\n",
    "lon = 106.706797\n",
    "res = 6\n",
    "geohash_id = latlon2geohash(lat, lon, res)\n",
    "geohash_id"
   ]
  },
  {
   "cell_type": "markdown",
   "metadata": {},
   "source": [
    "### Geohash to Shapely Polygon"
   ]
  },
  {
   "cell_type": "code",
   "execution_count": null,
   "metadata": {},
   "outputs": [],
   "source": [
    "from vgrid.conversion.dggs2geo.geohash2geo  import geohash2geo\n",
    "\n",
    "geohash_geo = geohash2geo(geohash_id)\n",
    "geohash_geo"
   ]
  },
  {
   "cell_type": "markdown",
   "metadata": {},
   "source": [
    "### Geohash to GeoJSON"
   ]
  },
  {
   "cell_type": "code",
   "execution_count": null,
   "metadata": {},
   "outputs": [],
   "source": [
    "from vgrid.conversion.dggs2geo.geohash2geo import geohash2geojson\n",
    "\n",
    "geohash_geojson = geohash2geojson(geohash_id)\n",
    "geohash_geojson"
   ]
  },
  {
   "cell_type": "markdown",
   "metadata": {},
   "source": [
    "### Vector to Geohash"
   ]
  },
  {
   "cell_type": "code",
   "execution_count": null,
   "metadata": {},
   "outputs": [],
   "source": [
    "from vgrid.conversion.vector2dggs.vector2geohash import vector2geohash\n",
    "\n",
    "file_path = (\n",
    "    \"https://raw.githubusercontent.com/opengeoshub/vopendata/main/shape/polygon.geojson\"\n",
    ")\n",
    "vector_to_geohash = vector2geohash(file_path, resolution=7, compact=False, \n",
    "                                    predicate = \"intersects\",output_format=\"gpd\")\n",
    "# Visualize the output\n",
    "vector_to_geohash.plot(edgecolor=\"white\")"
   ]
  },
  {
   "cell_type": "markdown",
   "metadata": {},
   "source": [
    "### Geohash Compact"
   ]
  },
  {
   "cell_type": "code",
   "execution_count": null,
   "metadata": {},
   "outputs": [],
   "source": [
    "from vgrid.conversion.dggscompact.geohashcompact import geohashcompact\n",
    "\n",
    "geohash_compacted = geohashcompact(vector_to_geohash, geohash_id=\"geohash\", output_format=\"gpd\")\n",
    "geohash_compacted.plot(edgecolor=\"white\")\n"
   ]
  },
  {
   "cell_type": "markdown",
   "metadata": {},
   "source": [
    "### Geohash Expand"
   ]
  },
  {
   "cell_type": "code",
   "execution_count": null,
   "metadata": {},
   "outputs": [],
   "source": [
    "from vgrid.conversion.dggscompact.geohashcompact import geohashexpand\n",
    "\n",
    "geohash_expanded = geohashexpand(\n",
    "    vector_to_geohash, resolution=8, output_format=\"gpd\"        \n",
    ")\n",
    "geohash_expanded.plot(edgecolor=\"white\")"
   ]
  },
  {
   "cell_type": "markdown",
   "metadata": {},
   "source": [
    "### Geohash Binning"
   ]
  },
  {
   "cell_type": "code",
   "execution_count": null,
   "metadata": {},
   "outputs": [],
   "source": [
    "from vgrid.binning.geohashbin import geohashbin\n",
    "import geopandas as gpd\n",
    "file_path = (\n",
    "    \"https://raw.githubusercontent.com/opengeoshub/vopendata/main/csv/dist1_pois.csv\"\n",
    ")\n",
    "stats = \"count\"\n",
    "geohash_bin =  geohashbin(file_path, resolution=7, stats=stats, \n",
    "                # numeric_field=\"confidence\",\n",
    "                # category=\"category\",\n",
    "                output_format=\"gpd\")\n",
    "geohash_bin.plot(\n",
    "    column=stats,        # numeric column to base the colors on\n",
    "    cmap='Spectral_r',        # color scheme (matplotlib colormap)\n",
    "    legend=True,  \n",
    "    linewidth=0.2          # boundary width (optional)\n",
    ")   "
   ]
  },
  {
   "cell_type": "markdown",
   "metadata": {},
   "source": [
    "### Raster to Geohash"
   ]
  },
  {
   "cell_type": "code",
   "execution_count": null,
   "metadata": {},
   "outputs": [],
   "source": [
    "# %pip install folium"
   ]
  },
  {
   "cell_type": "code",
   "execution_count": null,
   "metadata": {},
   "outputs": [],
   "source": [
    "from vgrid.conversion.raster2dggs.raster2geohash    import raster2geohash\n",
    "from vgrid.utils.io import download_file          \n",
    "\n",
    "raster_url = (\n",
    "    \"https://raw.githubusercontent.com/opengeoshub/vopendata/main/raster/rgb.tif\"\n",
    ")\n",
    "raster_file = download_file(raster_url)\n",
    "\n",
    "raster_to_geohash =  raster2geohash(raster_file,output_format=\"gpd\")\n",
    "\n",
    "# Visualize the output\n",
    "import folium\n",
    "\n",
    "m = folium.Map(tiles=\"CartoDB positron\", max_zoom=28)\n",
    "\n",
    "geohash_layer = folium.GeoJson(\n",
    "    raster_to_geohash,\n",
    "    style_function=lambda x: {\n",
    "        \"fillColor\": f\"rgb({x['properties']['band_1']}, {x['properties']['band_2']}, {x['properties']['band_3']})\",\n",
    "        \"fillOpacity\": 1,\n",
    "        \"color\": \"black\",\n",
    "        \"weight\": 1,\n",
    "    },\n",
    "    popup=folium.GeoJsonPopup(\n",
    "        fields=[\"geohash\", \"band_1\", \"band_2\", \"band_3\"],\n",
    "        aliases=[\"Geohash ID\", \"Band 1\", \"Band 2\", \"Band 3\"],\n",
    "        style=\"\"\"\n",
    "            background-color: white;\n",
    "            border: 2px solid black;\n",
    "            border-radius: 3px;\n",
    "            box-shadow: 3px;\n",
    "        \"\"\",\n",
    "    ),\n",
    ").add_to(m)\n",
    "\n",
    "m.fit_bounds(geohash_layer.get_bounds())\n",
    "\n",
    "# Display the map\n",
    "m"
   ]
  },
  {
   "cell_type": "markdown",
   "metadata": {},
   "source": [
    "### Geohash Generator"
   ]
  },
  {
   "cell_type": "code",
   "execution_count": null,
   "metadata": {},
   "outputs": [],
   "source": [
    "from vgrid.generator.geohashgrid import geohashgrid\n",
    "# geohash_grid = geohashgrid(resolution=1,output_format=\"gpd\")\n",
    "geohash_grid = geohashgrid(resolution=7,bbox=[106.699007, 10.762811, 106.717674, 10.778649],\n",
    "                            output_format=\"gpd\")\n",
    "geohash_grid.plot(edgecolor=\"white\")"
   ]
  },
  {
   "cell_type": "markdown",
   "metadata": {},
   "source": [
    "### Geohash Inspect"
   ]
  },
  {
   "cell_type": "code",
   "execution_count": null,
   "metadata": {},
   "outputs": [],
   "source": [
    "from vgrid.stats.geohashstats import geohashinspect \n",
    "resolution = 3\n",
    "geohash_inspect = geohashinspect(resolution)    \n",
    "geohash_inspect.head()"
   ]
  },
  {
   "cell_type": "markdown",
   "metadata": {},
   "source": [
    "### Distribution of Geohash Area Distortions"
   ]
  },
  {
   "cell_type": "code",
   "execution_count": null,
   "metadata": {},
   "outputs": [],
   "source": [
    "from vgrid.stats.geohashstats import geohash_norm_area\n",
    "geohash_norm_area(geohash_inspect)"
   ]
  },
  {
   "cell_type": "markdown",
   "metadata": {},
   "source": [
    "### Distribution of Geohash IPQ Compactness"
   ]
  },
  {
   "cell_type": "code",
   "execution_count": null,
   "metadata": {},
   "outputs": [],
   "source": [
    "from vgrid.stats.geohashstats import geohash_compactness\n",
    "geohash_compactness(geohash_inspect)"
   ]
  },
  {
   "cell_type": "markdown",
   "metadata": {},
   "source": [
    "### Geohash Statistics"
   ]
  },
  {
   "cell_type": "code",
   "execution_count": null,
   "metadata": {},
   "outputs": [],
   "source": [
    "from vgrid.stats import geohashstats            \n",
    "geohashstats()"
   ]
  }
 ],
 "metadata": {
  "jupytext": {
   "default_lexer": "ipython3"
  },
  "kernelspec": {
   "display_name": ".venv",
   "language": "python",
   "name": "python3"
  }
 },
 "nbformat": 4,
 "nbformat_minor": 5
}
