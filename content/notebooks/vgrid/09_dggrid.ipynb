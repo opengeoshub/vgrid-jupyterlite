{
 "cells": [
  {
   "cell_type": "markdown",
   "metadata": {},
   "source": [
    "## Working with DGGAL in Vgrid DGGS\n",
    "\n",
    "[![image](https://jupyterlite.rtfd.io/en/latest/_static/badge.svg)](https://demo.vgrid.vn/lab/index.html?path=vgrid/09_dggrid.ipynb)\n",
    "[![image](https://colab.research.google.com/assets/colab-badge.svg)](https://colab.research.google.com/github/opengeoshub/vgrid/blob/main/docs/notebooks/07_ease.ipynb)\n",
    "[![image](https://mybinder.org/badge_logo.svg)](https://mybinder.org/v2/gh/opengeoshub/vgrid/HEAD?filepath=docs/notebooks/07_ease.ipynb)\n",
    "[![image](https://studiolab.sagemaker.aws/studiolab.svg)](https://studiolab.sagemaker.aws/import/github/opengeoshub/vgrid/blob/main/docs/notebooks/07_ease.ipynb)\n",
    "[![image](https://jupyterlite.rtfd.io/en/latest/_static/badge.svg)](https://demo.gishub.vn/lab/index.html?path=notebooks/vgrid/07_ease.ipynb)\n",
    "\n",
    "Full Vgrid DGGS documentation is available at [vgrid document](https://vgrid.gishub.vn).\n",
    "\n",
    "To work with Vgrid DGGS directly in GeoPandas and Pandas, please use [vgridpandas](https://pypi.org/project/vgridpandas/). Full Vgridpandas DGGS documentation is available at [vgridpandas document](https://vgridpandas.gishub.vn).\n",
    "\n",
    "To work with Vgrid DGGS in QGIS, install the [Vgrid Plugin](https://plugins.qgis.org/plugins/vgridtools/).\n",
    "\n",
    "To visualize DGGS in Maplibre GL JS, try the [vgrid-maplibre](https://www.npmjs.com/package/vgrid-maplibre) library.\n",
    "\n",
    "For an interactive demo, visit the [Vgrid Homepage](https://vgrid.vn)."
   ]
  },
  {
   "cell_type": "markdown",
   "metadata": {},
   "source": [
    "### Install vgrid\n",
    "Uncomment the following line to install [vgrid](https://pypi.org/project/vgrid/)."
   ]
  },
  {
   "cell_type": "code",
   "execution_count": null,
   "metadata": {},
   "outputs": [],
   "source": [
    "# %pip install vgrid --upgrade"
   ]
  },
  {
   "cell_type": "markdown",
   "metadata": {},
   "source": [
    "### latlon2dggal"
   ]
  },
  {
   "cell_type": "code",
   "execution_count": null,
   "metadata": {},
   "outputs": [],
   "source": [
    "from vgrid.conversion.latlon2dggs import latlon2dggal\n",
    "dggs_type = 'ivea3h' # choose one from ['gnosis','isea3h','isea9r','ivea3h',\n",
    "                    # 'ivea9r','rtea3h','rtea9r','rhealpix']\n",
    "resolution = 10\n",
    "dggal_id = latlon2dggal(dggs_type, 10.775276, 106.706797, resolution)\n",
    "dggal_id"
   ]
  },
  {
   "cell_type": "markdown",
   "metadata": {},
   "source": [
    "### DGGAL to Shapely Polygon"
   ]
  },
  {
   "cell_type": "code",
   "execution_count": null,
   "metadata": {},
   "outputs": [],
   "source": [
    "from vgrid.conversion.dggs2geo.dggal2geo import dggal2geo\n",
    "dggal_geo = dggal2geo(dggs_type, dggal_id)\n",
    "dggal_geo"
   ]
  },
  {
   "cell_type": "markdown",
   "metadata": {},
   "source": [
    "### DGGAL to GeoJSON"
   ]
  },
  {
   "cell_type": "code",
   "execution_count": null,
   "metadata": {},
   "outputs": [],
   "source": [
    "import json\n",
    "from vgrid.conversion.dggs2geo.dggal2geo import dggal2geojson\n",
    "dggal_geojson = dggal2geojson(dggs_type, dggal_id)\n",
    "print(json.dumps(dggal_geojson))"
   ]
  },
  {
   "cell_type": "markdown",
   "metadata": {},
   "source": [
    "### Vector to DGGAL"
   ]
  },
  {
   "cell_type": "code",
   "execution_count": null,
   "metadata": {},
   "outputs": [],
   "source": [
    "from vgrid.conversion.vector2dggs.vector2dggal import vector2dggal\n",
    "\n",
    "file_path = (\n",
    "    \"https://raw.githubusercontent.com/opengeoshub/vopendata/main/shape/polygon2.geojson\"\n",
    ")\n",
    "vector_to_dggal  = vector2dggal(file_path, dggs_type=dggs_type, resolution=18, compact=False, \n",
    "                                predicate = \"intersects\",output_format=\"gpd\")\n",
    "# Visualize the output\n",
    "# vector_to_dggal.head()\n",
    "vector_to_dggal.plot(edgecolor=\"white\")"
   ]
  },
  {
   "cell_type": "markdown",
   "metadata": {},
   "source": [
    "### DGGAL Binning"
   ]
  },
  {
   "cell_type": "code",
   "execution_count": null,
   "metadata": {},
   "outputs": [],
   "source": [
    "from vgrid.binning.dggalbin import dggalbin\n",
    "dggs_type = 'isea9r'\n",
    "file_path = (\n",
    "    \"https://raw.githubusercontent.com/opengeoshub/vopendata/main/csv/dist1_pois.csv\"\n",
    ")\n",
    "stats = \"majority\"\n",
    "dggal_bin = dggalbin(file_path,dggs_type=dggs_type, resolution=10, stats=stats, \n",
    "                numeric_field=\"confidence\",\n",
    "                # category=\"category\",\n",
    "                # method=\"grid\",\n",
    "                output_format=\"gpd\")\n",
    "# dggal_bin.head()\n",
    "dggal_bin.plot(\n",
    "    column=stats,        # numeric column to base the colors on\n",
    "    cmap='Spectral_r',        # color scheme (matplotlib colormap)\n",
    "    legend=True,  \n",
    "    linewidth=0.2          # boundary width (optional)\n",
    ")"
   ]
  },
  {
   "cell_type": "markdown",
   "metadata": {},
   "source": [
    "### Raster to DGGAL"
   ]
  },
  {
   "cell_type": "code",
   "execution_count": null,
   "metadata": {},
   "outputs": [],
   "source": [
    "# from vgrid.conversion.raster2dggs.raster2dggal import raster2dggal\n",
    "# from vgrid.utils.io import download_file          \n",
    "\n",
    "# raster_url = (\n",
    "#     \"https://raw.githubusercontent.com/opengeoshub/vopendata/main/raster/rgb.tif\"\n",
    "# )\n",
    "# raster_file = download_file(raster_url)\n",
    "\n",
    "# raster_to_dggal =  raster2dggal(raster_file,dggs_type=\"isea3h\",resolution=1, output_format=\"gpd\")\n",
    "# raster_to_dggal.head()\n",
    "# Visualize the output \n",
    "# import folium\n",
    "\n",
    "# m = folium.Map(tiles=\"CartoDB positron\", max_zoom=28)\n",
    "\n",
    "# dggal_layer = folium.GeoJson(\n",
    "#     raster_to_dggal,\n",
    "#     style_function=lambda x: {\n",
    "#         \"fillColor\": f\"rgb({x['properties']['band_1']}, {x['properties']['band_2']}, {x['properties']['band_3']})\",\n",
    "#         \"fillOpacity\": 1,\n",
    "#         \"color\": \"black\",\n",
    "#         \"weight\": 1,\n",
    "#     },\n",
    "#     popup=folium.GeoJsonPopup(\n",
    "#         fields=[\"zone_id\", \"band_1\", \"band_2\", \"band_3\"],\n",
    "#         aliases=[\"Zone ID\", \"Band 1\", \"Band 2\", \"Band 3\"],\n",
    "#         style=\"\"\"\n",
    "#             background-color: white;\n",
    "#             border: 2px solid black;\n",
    "#             border-radius: 3px;\n",
    "#             box-shadow: 3px;\n",
    "#         \"\"\",\n",
    "#     ),\n",
    "# ).add_to(m)\n",
    "\n",
    "# m.fit_bounds(dggal_layer.get_bounds())\n",
    "\n",
    "# # Display the map\n",
    "# m"
   ]
  },
  {
   "cell_type": "markdown",
   "metadata": {},
   "source": [
    "### DGGAL Generator"
   ]
  },
  {
   "cell_type": "code",
   "execution_count": null,
   "metadata": {},
   "outputs": [],
   "source": [
    "from vgrid.generator.dggalgen import dggalgen \n",
    "\n",
    "dggs_type = \"isea9r\" # \"gnosis\", \"isea3h\", \"isea9r\", \"ivea3h\", \"ivea9r\", \"rtea3h\", \"rtea9r\", \"rhealpix\"\n",
    "resolution = 1\n",
    "dggal_grid = dggalgen(dggs_type=dggs_type,resolution=resolution, output_format=\"gpd\")\n",
    "dggal_grid.plot(edgecolor=\"white\")"
   ]
  },
  {
   "cell_type": "markdown",
   "metadata": {},
   "source": [
    "### DGGAL Inspect"
   ]
  },
  {
   "cell_type": "code",
   "execution_count": null,
   "metadata": {},
   "outputs": [],
   "source": [
    "from vgrid.stats.dggalstats import dggalinspect\n",
    "dggs_type = \"ivea3h\" # choose one from ['gnosis','isea3h','isea9r','ivea3h',\n",
    "                    # 'ivea9r','rtea3h','rtea9r','rhealpix']\n",
    "resolution = 3\n",
    "dggal_inspect = dggalinspect(dggs_type, resolution)\n",
    "dggal_inspect"
   ]
  },
  {
   "cell_type": "markdown",
   "metadata": {},
   "source": [
    "### Distribution of DGGAL Area Distortions"
   ]
  },
  {
   "cell_type": "code",
   "execution_count": null,
   "metadata": {},
   "outputs": [],
   "source": [
    "from vgrid.stats.dggalstats import dggal_norm_area\n",
    "dggal_norm_area(dggal_inspect,dggs_type=dggs_type, crs='proj=moll')"
   ]
  },
  {
   "cell_type": "markdown",
   "metadata": {},
   "source": [
    "### Distribution of DGGAL IPQ Compactness"
   ]
  },
  {
   "cell_type": "code",
   "execution_count": null,
   "metadata": {},
   "outputs": [],
   "source": [
    "from vgrid.stats.dggalstats import dggal_compactness\n",
    "dggal_compactness(dggal_inspect,dggs_type, crs = \"proj=moll\")"
   ]
  },
  {
   "cell_type": "markdown",
   "metadata": {},
   "source": [
    "### DGGAL Statistics"
   ]
  },
  {
   "cell_type": "code",
   "execution_count": null,
   "metadata": {},
   "outputs": [],
   "source": [
    "from vgrid.stats.dggalstats import dggalstats    \n",
    "dggs_type = 'rhealpix' # choose one from ['gnosis','isea3h','isea9r','ivea3h',\n",
    "                    # 'ivea9r','rtea3h','rtea9r','rhealpix']\n",
    "dggal_stats = dggalstats(dggs_type)\n",
    "dggal_stats"
   ]
  }
 ],
 "metadata": {
  "jupytext": {
   "default_lexer": "ipython3"
  },
  "kernelspec": {
   "display_name": ".venv",
   "language": "python",
   "name": "python3"
  }
 },
 "nbformat": 4,
 "nbformat_minor": 5
}
