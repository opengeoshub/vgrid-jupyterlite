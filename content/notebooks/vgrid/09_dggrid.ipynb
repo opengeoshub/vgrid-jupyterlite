{
 "cells": [
  {
   "cell_type": "markdown",
   "metadata": {
   },
   "source": [
    "## Working with DGGRID in Vgrid DGGS\n",
    "\n",
    "[![image](https://jupyterlite.rtfd.io/en/latest/_static/badge.svg)](https://demo.vgrid.vn/lab/index.html?path=vgrid/09_dggrid.ipynb)\n",
    "[![image](https://colab.research.google.com/assets/colab-badge.svg)](https://colab.research.google.com/github/opengeoshub/vgrid/blob/main/docs/notebooks/09_dggrid.ipynb)\n",
    "[![image](https://mybinder.org/badge_logo.svg)](https://mybinder.org/v2/gh/opengeoshub/vgrid/HEAD?filepath=docs/notebooks/09_dggrid.ipynb)\n",
    "[![image](https://studiolab.sagemaker.aws/studiolab.svg)](https://studiolab.sagemaker.aws/import/github/opengeoshub/vgrid/blob/main/docs/notebooks/09_dggrid.ipynb)\n",
    "[![image](https://jupyterlite.rtfd.io/en/latest/_static/badge.svg)](https://demo.gishub.vn/lab/index.html?path=notebooks/vgrid/09_dggrid.ipynb)\n",
    "\n",
    "Full Vgrid DGGS documentation is available at [vgrid document](https://vgrid.gishub.vn).\n",
    "\n",
    "To work with Vgrid DGGS directly in GeoPandas and Pandas, please use [vgridpandas](https://pypi.org/project/vgridpandas/). Full Vgridpandas DGGS documentation is available at [vgridpandas document](https://vgridpandas.gishub.vn).\n",
    "\n",
    "To work with Vgrid DGGS in QGIS, install the [Vgrid Plugin](https://plugins.qgis.org/plugins/vgridtools/).\n",
    "\n",
    "To visualize DGGS in Maplibre GL JS, try the [vgrid-maplibre](https://www.npmjs.com/package/vgrid-maplibre) library.\n",
    "\n",
    "For an interactive demo, visit the [Vgrid Homepage](https://vgrid.vn)."
   ]
  },
  {
   "cell_type": "markdown",
   "metadata": {
   },
   "source": [
    "### Install vgrid\n",
    "Uncomment the following line to install [vgrid](https://pypi.org/project/vgrid/)."
   ]
  },
  {
   "cell_type": "code",
   "execution_count": null,
   "metadata": {
   },
   "outputs": [],
   "source": [
    "# %pip install vgrid --upgrade"
   ]
  },
  {
   "cell_type": "markdown",
   "metadata": {
   },
   "source": [
    "### Download a portable version of DGGRID and start a DGGRID instance"
   ]
  },
  {
   "cell_type": "code",
   "execution_count": null,
   "metadata": {
   },
   "outputs": [],
   "source": [
    "from dggrid4py import tool, DGGRIDv7\n",
    "\n",
    "dggrid_exec = tool.get_portable_executable(\".\")\n",
    "\n",
    "dggrid_instance = DGGRIDv7(\n",
    "    executable=dggrid_exec,\n",
    "    working_dir=\".\",\n",
    "    capture_logs=False,\n",
    "    silent=True,\n",
    "    has_gdal=False,\n",
    "    tmp_geo_out_legacy=True,\n",
    "    debug=False,\n",
    ")"
   ]
  },
  {
   "cell_type": "markdown",
   "metadata": {
   },
   "source": [
    "### latlon2dggrid"
   ]
  },
  {
   "cell_type": "code",
   "execution_count": null,
   "metadata": {
    "colab": {
     "base_uri": "https://localhost:8080/",
     "height": 35
    },
    "outputId": "3f1f1e10-3742-4c17-d71f-10db65ef0ed9"
   },
   "outputs": [],
   "source": [
    "from vgrid.conversion.latlon2dggs import latlon2dggrid\n",
    "\n",
    "dggs_type = \"ISEA3H\"  # choose one from ['CUSTOM', 'SUPERFUND', 'PLANETRISK', 'ISEA3H', 'ISEA4H', 'ISEA4T', 'ISEA4D', 'ISEA43H', 'ISEA7H', 'IGEO7', 'FULLER3H', 'FULLER4H', 'FULLER4T', 'FULLER4D', 'FULLER43H', 'FULLER7H']\n",
    "resolution = 18\n",
    "address_type = \"Z3_STRING\"\n",
    "# \"Q2DI\",  # quad number and (i, j) coordinates on that quad\n",
    "# \"SEQNUM\",  # DGGS index - linear address (1 to size-of-DGG), not supported for parameter input_address_type if dggs_aperture_type is SEQUENCE\n",
    "# \"PLANE\",  # (x, y) coordinates on unfolded ISEA plane,  only supported for parameter output_address_type;\n",
    "# \"Q2DD\",  # quad number and (x, y) coordinates on that quad\n",
    "# \"PROJTRI\",  # PROJTRI - triangle number and (x, y) coordinates within that triangle on the ISEA plane\n",
    "# \"VERTEX2DD\",  # vertex number, triangle number, and (x, y) coordinates on ISEA plane\n",
    "# \"Z3\",  # hexadecimal characters index system Z3 especially usefull for ISEA3H\n",
    "# \"Z3_STRING\",  # numerical digits representation of Z3 (as characters, not an integer)\n",
    "# \"Z7\",  # hexadecimal characters index system Z7 especially usefull for ISEA7H, also in preset IGEO7\n",
    "# \"Z7_STRING\",  # numerical digits representation of Z7 (as characters, not an integer)\n",
    "# \"ZORDER\",  # index system ZORDER especially usefull for ISEA3H, ISEA4H and mixed aperture\n",
    "# \"ZORDER_STRING\",  # numerical digits representation of ZORDER (as characters, not an integer)\n",
    "dggrid_id = latlon2dggrid(\n",
    "    dggrid_instance, dggs_type, 10.775276, 106.706797, resolution, address_type\n",
    ")\n",
    "dggrid_id"
   ]
  },
  {
   "cell_type": "markdown",
   "metadata": {
   },
   "source": [
    "### DGGRID to Polygon (GeoDataFrame)"
   ]
  },
  {
   "cell_type": "code",
   "execution_count": null,
   "metadata": {
    "colab": {
     "base_uri": "https://localhost:8080/",
     "height": 89
    },
    "outputId": "0ab45612-9db2-4da7-f074-e6f35f525b34"
   },
   "outputs": [],
   "source": [
    "from vgrid.conversion.dggs2geo.dggrid2geo import dggrid2geo\n",
    "\n",
    "dggrid_geo = dggrid2geo(dggrid_instance, dggs_type, dggrid_id, resolution, address_type)\n",
    "dggrid_geo"
   ]
  },
  {
   "cell_type": "markdown",
   "metadata": {
   },
   "source": [
    "### DGGRID to GeoJSON"
   ]
  },
  {
   "cell_type": "code",
   "execution_count": null,
   "metadata": {
    "colab": {
     "base_uri": "https://localhost:8080/"
    },
    "outputId": "5d7b03d8-6b6b-45cb-e4c1-29041b1d3925"
   },
   "outputs": [],
   "source": [
    "from vgrid.conversion.dggs2geo.dggrid2geo import dggrid2geojson\n",
    "\n",
    "dggrid_geojson = dggrid2geojson(\n",
    "    dggrid_instance, dggs_type, dggrid_id, resolution, address_type\n",
    ")\n",
    "dggrid_geojson"
   ]
  },
  {
   "cell_type": "markdown",
   "metadata": {
   },
   "source": [
    "### Point to DGGRID"
   ]
  },
  {
   "cell_type": "code",
   "execution_count": null,
   "metadata": {
    "colab": {
     "base_uri": "https://localhost:8080/",
     "height": 483
    },
    "outputId": "2594f47d-5e2f-4c2a-d31b-cc89bb94f3fa"
   },
   "outputs": [],
   "source": [
    "from vgrid.conversion.vector2dggs.vector2dggrid import vector2dggrid\n",
    "\n",
    "file_path = (\n",
    "    \"https://raw.githubusercontent.com/opengeoshub/vopendata/main/shape/point.geojson\"\n",
    ")\n",
    "dggs_type = \"ISEA3H\"  # choose one from ['CUSTOM', 'SUPERFUND', 'PLANETRISK', 'ISEA3H', 'ISEA4H',\n",
    "# 'ISEA4T', 'ISEA4D', 'ISEA43H', 'ISEA7H', 'IGEO7', 'FULLER3H', 'FULLER4H', 'FULLER4T', 'FULLER4D', 'FULLER43H', 'FULLER7H']\n",
    "resolution = 18\n",
    "vector_to_dggrid = vector2dggrid(\n",
    "    dggrid_instance,\n",
    "    dggs_type,\n",
    "    file_path,\n",
    "    resolution=resolution,\n",
    "    compact=False,\n",
    "    predicate=\"intersects\",\n",
    "    output_address_type=address_type,\n",
    "    output_format=\"gpd\",\n",
    ")\n",
    "# Visualize the output\n",
    "# vector_to_dggrid.head()\n",
    "vector_to_dggrid.plot(edgecolor=\"white\")"
   ]
  },
  {
   "cell_type": "markdown",
   "metadata": {
   },
   "source": [
    "### DGGRID Generator"
   ]
  },
  {
   "cell_type": "code",
   "execution_count": null,
   "metadata": {
    "colab": {
     "base_uri": "https://localhost:8080/",
     "height": 325
    },
    "outputId": "10bf0074-1e40-430a-8d64-3eaff4385c86"
   },
   "outputs": [],
   "source": [
    "from vgrid.generator.dggridgen import dggridgen\n",
    "\n",
    "dggs_type = \"ISEA4T\"  # choose one from ['CUSTOM', 'SUPERFUND', 'PLANETRISK', 'ISEA3H', 'ISEA4H', 'ISEA4T',\n",
    "# 'ISEA4D', 'ISEA43H', 'ISEA7H', 'IGEO7', 'FULLER3H', 'FULLER4H', 'FULLER4T', 'FULLER4D', 'FULLER43H', 'FULLER7H']\n",
    "resolution = 2\n",
    "# bbox = (10.762811, 106.699007, 10.778649, 106.717674)  # (min_lat, min_lon, max_lat, max_lon)\n",
    "dggrid_gen = dggridgen(\n",
    "    dggrid_instance, dggs_type=dggs_type, resolution=resolution, output_format=\"gpd\"\n",
    ")\n",
    "# dggrid_gen\n",
    "dggrid_gen.plot(edgecolor=\"white\")"
   ]
  },
  {
   "cell_type": "markdown",
   "metadata": {
   },
   "source": [
    "### DGGRID Inspect"
   ]
  },
  {
   "cell_type": "code",
   "execution_count": null,
   "metadata": {
    "colab": {
     "base_uri": "https://localhost:8080/",
     "height": 206
    },
    "outputId": "5dac7d13-5bb7-45b2-bb0d-2eff4e711e2c"
   },
   "outputs": [],
   "source": [
    "from vgrid.stats.dggridstats import dggridinspect\n",
    "\n",
    "dggs_type = \"ISEA4D\"  # choose one from ['CUSTOM', 'SUPERFUND', 'PLANETRISK', 'ISEA3H', 'ISEA4H', 'ISEA4T',\n",
    "# 'ISEA4D', 'ISEA43H', 'ISEA7H', 'IGEO7', 'FULLER3H', 'FULLER4H', 'FULLER4T', 'FULLER4D', 'FULLER43H', 'FULLER7H']\n",
    "resolution = 3\n",
    "dggrid_inspect = dggridinspect(dggrid_instance, dggs_type, resolution)\n",
    "dggrid_inspect.head()"
   ]
  },
  {
   "cell_type": "markdown",
   "metadata": {
   },
   "source": [
    "### DGGRID Normalized Area Histogram"
   ]
  },
  {
   "cell_type": "code",
   "execution_count": null,
   "metadata": {
    "colab": {
     "base_uri": "https://localhost:8080/",
     "height": 607
    },
    "outputId": "823fe007-f984-4bcc-b0a8-9d3b8475ad33"
   },
   "outputs": [],
   "source": [
    "from vgrid.stats.dggridstats import dggrid_norm_area_hist\n",
    "\n",
    "dggrid_norm_area_hist(dggrid_inspect, dggs_type)"
   ]
  },
  {
   "cell_type": "markdown",
   "metadata": {
   },
   "source": [
    "### Distribution of DGGRID Area Distortions"
   ]
  },
  {
   "cell_type": "code",
   "execution_count": null,
   "metadata": {
    "colab": {
     "base_uri": "https://localhost:8080/",
     "height": 507
    },
    "outputId": "f99e8b20-60d5-47c8-c1de-9be63d9a82e1"
   },
   "outputs": [],
   "source": [
    "from vgrid.stats.dggridstats import dggrid_norm_area\n",
    "\n",
    "dggrid_norm_area(dggrid_inspect, dggs_type=dggs_type, crs=\"proj=moll\")"
   ]
  },
  {
   "cell_type": "markdown",
   "metadata": {
   },
   "source": [
    "### DGGRID IPQ Compactness Histogram"
   ]
  },
  {
   "cell_type": "markdown",
   "metadata": {
   },
   "source": [
    "Isoperimetric Inequality (IPQ) Compactness (suggested by Osserman, 1987):\n",
    "$$C_{IPQ} = \\frac{4 \\pi A}{p^2}$$\n",
    "The range of the IPQ compactness metric is [0,1].\n",
    "\n",
    "A circle represents the maximum compactness with a value of 1.\n",
    "\n",
    "As shapes become more irregular or elongated, their compactness decreases toward 0."
   ]
  },
  {
   "cell_type": "code",
   "execution_count": null,
   "metadata": {
    "colab": {
     "base_uri": "https://localhost:8080/",
     "height": 607
    },
    "outputId": "5c795b6d-292c-4f1f-e005-c2f24eecd0b5"
   },
   "outputs": [],
   "source": [
    "from vgrid.stats.dggridstats import dggrid_compactness_hist\n",
    "\n",
    "dggrid_compactness_hist(dggrid_inspect, dggs_type)"
   ]
  },
  {
   "cell_type": "markdown",
   "metadata": {
   },
   "source": [
    "### Distribution of DGGRID IPQ Compactness"
   ]
  },
  {
   "cell_type": "code",
   "execution_count": null,
   "metadata": {
    "colab": {
     "base_uri": "https://localhost:8080/",
     "height": 507
    },
    "outputId": "23189f9e-619b-4b41-aa48-80c100f82902"
   },
   "outputs": [],
   "source": [
    "from vgrid.stats.dggridstats import dggrid_compactness\n",
    "\n",
    "dggrid_compactness(dggrid_inspect, dggs_type, crs=\"proj=moll\")"
   ]
  },
  {
   "cell_type": "markdown",
   "metadata": {
   },
   "source": [
    "### DGGRID Statistics"
   ]
  },
  {
   "cell_type": "markdown",
   "metadata": {
   },
   "source": [
    "Characteristic Length Scale (CLS - suggested by Ralph Kahn): the diameter of a spherical cap of the same cell's area"
   ]
  },
  {
   "cell_type": "code",
   "execution_count": null,
   "metadata": {
    "outputId": "c3b00f4e-c013-49fa-d822-651d0e70aa86"
   },
   "outputs": [],
   "source": [
    "from vgrid.stats.dggridstats import dggridstats\n",
    "\n",
    "dggs_type = \"FULLER7H\"  # choose one from ['CUSTOM', 'SUPERFUND', 'PLANETRISK', 'ISEA3H', 'ISEA4H', 'ISEA4T',\n",
    "# 'ISEA4D', 'ISEA43H', 'ISEA7H', 'IGEO7', 'FULLER3H', 'FULLER4H', 'FULLER4T', 'FULLER4D', 'FULLER43H', 'FULLER7H']\n",
    "dggrid_stats = dggridstats(dggrid_instance, dggs_type, \"km\")\n",
    "dggrid_stats"
   ]
  }
 ],
 "metadata": {
  "jupytext": {
   "default_lexer": "ipython3"
  },
  "kernelspec": {
   "display_name": ".venv",
   "language": "python",
   "name": "python3"
  }
 },
 "nbformat": 4,
 "nbformat_minor": 5
}
