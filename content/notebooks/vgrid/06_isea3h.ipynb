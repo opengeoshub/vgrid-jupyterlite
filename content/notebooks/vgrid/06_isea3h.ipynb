{
 "cells": [
  {
   "cell_type": "markdown",
   "metadata": {},
   "source": [
    "## Working with ISEA3H in Vgrid DGGS (Windows only)\n",
    "\n",
    "[![image](https://jupyterlite.rtfd.io/en/latest/_static/badge.svg)](https://demo.gishub.vn/lab/index.html?path=notebooks/vgrid/05_isea3h.ipynb)\n",
    "[![image](https://colab.research.google.com/assets/colab-badge.svg)](https://colab.research.google.com/github/opengeoshub/vgrid/blob/master)\n",
    "[![image](https://mybinder.org/badge_logo.svg)](https://mybinder.org/v2/gh/opengeoshub/vgrid/HEAD)\n",
    "\n",
    "Full Vgrid DGGS documentation is available at [vgrid document](https://vgrid.gishub.vn).\n",
    "\n",
    "To work with Vgrid DGGS directly in GeoPandas and Pandas, please use [vgridpandas](https://pypi.org/project/vgridpandas/). Full Vgridpandas DGGS documentation is available at [vgridpandas document](https://vgridpandas.gishub.vn).\n",
    "\n",
    "To work with Vgrid DGGS in QGIS, please use [Vgrid Plugin](https://plugins.qgis.org/plugins/vgridtools/)."
   ]
  },
  {
   "cell_type": "markdown",
   "metadata": {},
   "source": [
    "### Install vgrid\n",
    "Uncomment the following line to install [vgrid](https://pypi.org/project/vgrid/) if needed."
   ]
  },
  {
   "cell_type": "code",
   "execution_count": null,
   "metadata": {},
   "outputs": [],
   "source": [
    "# %pip install vgrid --upgrade"
   ]
  },
  {
   "cell_type": "markdown",
   "metadata": {},
   "source": [
    "### latlon2isea3h"
   ]
  },
  {
   "cell_type": "code",
   "execution_count": null,
   "metadata": {},
   "outputs": [],
   "source": [
    "from vgrid.conversion.latlon2dggs import latlon2isea3h\n",
    "\n",
    "lat = 10.775276\n",
    "lon = 106.706797\n",
    "res = 12\n",
    "isea3h_id = latlon2isea3h(lat, lon, res)\n",
    "isea3h_id"
   ]
  },
  {
   "cell_type": "markdown",
   "metadata": {},
   "source": [
    "### ISEA3H to Shapely Polygons"
   ]
  },
  {
   "cell_type": "code",
   "execution_count": null,
   "metadata": {},
   "outputs": [],
   "source": [
    "from vgrid.conversion.dggs2geo.isea3h2geo  import isea3h2geo\n",
    "\n",
    "isea3h_geo = isea3h2geo('1311139,-9')\n",
    "isea3h_geo"
   ]
  },
  {
   "cell_type": "markdown",
   "metadata": {},
   "source": [
    "### ISEA3H to GeoJSON"
   ]
  },
  {
   "cell_type": "code",
   "execution_count": null,
   "metadata": {},
   "outputs": [],
   "source": [
    "from vgrid.conversion.dggs2geo.isea3h2geo import isea3h2geojson\n",
    "\n",
    "isea3h_geojson = isea3h2geojson(isea3h_id)\n",
    "isea3h_geojson"
   ]
  },
  {
   "cell_type": "markdown",
   "metadata": {},
   "source": [
    "### Vector to ISEA3H"
   ]
  },
  {
   "cell_type": "code",
   "execution_count": null,
   "metadata": {},
   "outputs": [],
   "source": [
    "# %pip install folium"
   ]
  },
  {
   "cell_type": "code",
   "execution_count": null,
   "metadata": {},
   "outputs": [],
   "source": [
    "from vgrid.conversion.vector2dggs.vector2isea3h import vector2isea3h\n",
    "\n",
    "file_path = (\n",
    "    \"https://raw.githubusercontent.com/opengeoshub/vopendata/main/shape/polygon.geojson\"\n",
    ")\n",
    "vector_to_isea3h = vector2isea3h(file_path, resolution=20, compact=False, \n",
    "                                predicate = \"intersects\",output_format=\"gpd\")\n",
    "\n",
    "# Visualize the output\n",
    "import folium\n",
    "\n",
    "m = folium.Map(tiles=\"CartoDB positron\")\n",
    "\n",
    "isea3h_layer = folium.GeoJson(\n",
    "vector_to_isea3h,\n",
    "style_function=lambda x: {\n",
    "    \"fillColor\": \"blue\",\n",
    "    \"color\": \"black\",\n",
    "    \"fillOpacity\": 0.3,\n",
    "    \"weight\": 1,\n",
    "},\n",
    "tooltip=folium.GeoJsonTooltip(\n",
    "    fields=[\"isea3h\", \"resolution\", \"cell_area\"],\n",
    "    aliases=[\"ISEA3H ID\", \"Resolution\", \"Area (m²)\"],\n",
    "    style=\"\"\"\n",
    "        background-color: white;\n",
    "        border: 2px solid black;\n",
    "        border-radius: 3px;\n",
    "        box-shadow: 3px;\n",
    "    \"\"\",\n",
    "),\n",
    ").add_to(m)\n",
    "\n",
    "m.fit_bounds(isea3h_layer.get_bounds())\n",
    "\n",
    "# Display the map\n",
    "m"
   ]
  },
  {
   "cell_type": "markdown",
   "metadata": {},
   "source": [
    "### ISEA3H Compact"
   ]
  },
  {
   "cell_type": "code",
   "execution_count": null,
   "metadata": {},
   "outputs": [],
   "source": [
    "from vgrid.conversion.dggscompact.isea3hcompact  import isea3hcompact\n",
    "\n",
    "isea3h_compacted = isea3hcompact( vector_to_isea3h, output_format=\"gpd\")\n",
    "isea3h_compacted.plot(edgecolor=\"white\")"
   ]
  },
  {
   "cell_type": "markdown",
   "metadata": {},
   "source": [
    "### ISEA3H Expand"
   ]
  },
  {
   "cell_type": "code",
   "execution_count": null,
   "metadata": {},
   "outputs": [],
   "source": [
    "from vgrid.conversion.dggscompact.isea3hcompact import isea3hexpand\n",
    "\n",
    "isea3h_expanded = isea3hexpand(\n",
    "    vector_to_isea3h, resolution=20, output_format=\"gpd\"\n",
    ")\n",
    "isea3h_expanded.plot(edgecolor=\"white\")"
   ]
  },
  {
   "cell_type": "markdown",
   "metadata": {},
   "source": [
    "### ISEA3H Generator"
   ]
  },
  {
   "cell_type": "code",
   "execution_count": null,
   "metadata": {},
   "outputs": [],
   "source": [
    "from vgrid.generator.isea3hgrid import isea3hgrid\n",
    "\n",
    "isea3h_grid = isea3hgrid(resolution=1,output_format=\"gpd\")\n",
    "# isea3h_grid = isea3hgrid(resolution=16,bbox=[106.699007, 10.762811, 106.717674, 10.778649],output_format=\"gpd\")\n",
    "\n",
    "isea3h_grid.plot(edgecolor='white')"
   ]
  },
  {
   "cell_type": "markdown",
   "metadata": {},
   "source": [
    "### ISEA3H Statistics"
   ]
  },
  {
   "cell_type": "code",
   "execution_count": null,
   "metadata": {},
   "outputs": [],
   "source": [
    "from vgrid.stats.isea3hstats import isea3hstats\n",
    "isea3hstats()"
   ]
  }
 ],
 "metadata": {
  "jupytext": {
   "default_lexer": "ipython3"
  },
  "kernelspec": {
   "display_name": ".venv",
   "language": "python",
   "name": "python3"
  }
 },
 "nbformat": 4,
 "nbformat_minor": 5
}
