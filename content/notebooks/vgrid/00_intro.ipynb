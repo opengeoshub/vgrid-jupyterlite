{
 "cells": [
  {
   "cell_type": "markdown",
   "metadata": {},
   "source": [
    "# Vgrid DGGS key features\n",
    "\n",
    "You can try out vgrid by using the cloud-computing platforms below without having to install anything on your computer:\n",
    "\n",
    "[![image](https://jupyterlite.rtfd.io/en/latest/_static/badge.svg)](https://demo.gishub.vn/lab/index.html?path=notebooks/vgrid/00_intro.ipynb)\n",
    "[![image](https://colab.research.google.com/assets/colab-badge.svg)](https://colab.research.google.com/github/opengeoshub/vgrid/blob/master)\n",
    "[![image](https://mybinder.org/badge_logo.svg)](https://mybinder.org/v2/gh/opengeoshub/vgrid/HEAD)\n",
    "\n",
    "For working with Vgrid DGGS directly in GeoPandas and Pandas, please use [vgridpandas](https://pypi.org/project/vgridpandas/), [vgridpandas document](https://vgridpandas.gishub.vn)"
   ]
  },
  {
   "cell_type": "markdown",
   "metadata": {},
   "source": [
    "## Install vgrid"
   ]
  },
  {
   "cell_type": "code",
   "execution_count": null,
   "metadata": {},
   "outputs": [],
   "source": [
    "# %pip install vgrid --upgrade"
   ]
  },
  {
   "cell_type": "markdown",
   "metadata": {},
   "source": [
    "## DGGS Conversion\n",
    "### latlon2dggs"
   ]
  },
  {
   "cell_type": "code",
   "execution_count": null,
   "metadata": {},
   "outputs": [],
   "source": [
    "from vgrid.conversion.latlon2dggs import latlon2h3\n",
    "\n",
    "lat = 10.775276\n",
    "lon = 106.706797\n",
    "res = 10\n",
    "h3_id = latlon2h3(lat, lon, res)\n",
    "h3_id"
   ]
  },
  {
   "cell_type": "markdown",
   "metadata": {},
   "source": [
    "### DGGS to Shapely Polygons"
   ]
  },
  {
   "cell_type": "code",
   "execution_count": null,
   "metadata": {},
   "outputs": [],
   "source": [
    "import geopandas as gpd\n",
    "from vgrid.conversion.dggs2geo.h32geo import h32geo\n",
    "h3_geo = h32geo([h3_id])\n",
    "h3_geo"
   ]
  },
  {
   "cell_type": "markdown",
   "metadata": {},
   "source": [
    "### DGGS to GeoJSON"
   ]
  },
  {
   "cell_type": "code",
   "execution_count": null,
   "metadata": {},
   "outputs": [],
   "source": [
    "from vgrid.conversion.dggs2geo.h32geo import h32geojson\n",
    "\n",
    "h3_geojson = h32geojson(h3_id)\n",
    "print(h3_geojson)"
   ]
  },
  {
   "cell_type": "markdown",
   "metadata": {},
   "source": [
    "### CSV to DGGS"
   ]
  },
  {
   "cell_type": "code",
   "execution_count": null,
   "metadata": {},
   "outputs": [],
   "source": [
    "import pandas as pd\n",
    "from vgrid.conversion.csv2dggs import csv2s2\n",
    "csv_path = \"https://raw.githubusercontent.com/opengeoshub/vopendata/main/csv/point.csv\"\n",
    "csv_file = pd.read_csv(\n",
    "    csv_path\n",
    ")  # modify the path to the point.csv file containing DGGS cell Ids\n",
    "s2_geojson = csv2s2(csv_path, \"s2\")  # csv2s2(csv_path) by default for 's2' column\n",
    "s2_geojson"
   ]
  },
  {
   "cell_type": "markdown",
   "metadata": {},
   "source": [
    "### Vector to DGGS"
   ]
  },
  {
   "cell_type": "code",
   "execution_count": null,
   "metadata": {},
   "outputs": [],
   "source": [
    "from vgrid.conversion.vector2dggs.vector2rhealpix import vector2rhealpix\n",
    "\n",
    "# Read GeoJSON from URL\n",
    "file_path = (\n",
    "    \"https://raw.githubusercontent.com/opengeoshub/vopendata/main/shape/polygon.geojson\"\n",
    ")\n",
    "\n",
    "geojson_rhealpix = vector2rhealpix(file_path, resolution=10, compact=False)\n",
    "# Change compact to True to see the compact version of the rHEALPix cells\n",
    "\n",
    "# Visualize the output GeoJSON\n",
    "import folium\n",
    "\n",
    "m = folium.Map(tiles=\"CartoDB positron\")\n",
    "\n",
    "rhealpix_layer = folium.GeoJson(\n",
    "    geojson_rhealpix,\n",
    "    style_function=lambda x: {\n",
    "        \"fillColor\": \"blue\",\n",
    "        \"color\": \"black\",\n",
    "        \"fillOpacity\": 0.3,\n",
    "        \"weight\": 1,\n",
    "    },\n",
    "    tooltip=folium.GeoJsonTooltip(\n",
    "        fields=[\"rhealpix\", \"resolution\", \"cell_area\"],\n",
    "        aliases=[\"rHEALPix ID\", \"Resolution\", \"Area (m²)\"],\n",
    "        style=\"\"\"\n",
    "            background-color: white;\n",
    "            border: 2px solid black;\n",
    "            border-radius: 3px;\n",
    "            box-shadow: 3px;\n",
    "        \"\"\",\n",
    "    ),\n",
    ").add_to(m)\n",
    "\n",
    "m.fit_bounds(rhealpix_layer.get_bounds())\n",
    "\n",
    "# Display the map\n",
    "m"
   ]
  },
  {
   "cell_type": "markdown",
   "metadata": {},
   "source": [
    "### DGGS Compact"
   ]
  },
  {
   "cell_type": "code",
   "execution_count": null,
   "metadata": {},
   "outputs": [],
   "source": [
    "from vgrid.conversion.dggscompact import rhealpixcompact\n",
    "rhealpix_compacted = rhealpixcompact(geojson_rhealpix, rhealpix_id=\"rhealpix\")\n",
    "\n",
    "# Visualize the output GeoJSON\n",
    "import folium\n",
    "\n",
    "m = folium.Map(tiles=\"CartoDB positron\")\n",
    "\n",
    "rhealpixcompacted_layer = folium.GeoJson(\n",
    "    rhealpix_compacted,\n",
    "    style_function=lambda x: {\n",
    "        \"fillColor\": \"blue\",\n",
    "        \"color\": \"black\",\n",
    "        \"fillOpacity\": 0.3,\n",
    "        \"weight\": 1,\n",
    "    },\n",
    "    tooltip=folium.GeoJsonTooltip(\n",
    "        fields=[\"rhealpix\", \"resolution\", \"cell_area\"],\n",
    "        aliases=[\"rHEALPix ID\", \"Resolution\", \"Area (m²)\"],\n",
    "        style=\"\"\"\n",
    "            background-color: white;\n",
    "            border: 2px solid black;\n",
    "            border-radius: 3px;\n",
    "            box-shadow: 3px;\n",
    "        \"\"\",\n",
    "    ),\n",
    ").add_to(m)\n",
    "\n",
    "m.fit_bounds(rhealpixcompacted_layer.get_bounds())\n",
    "\n",
    "# Display the map\n",
    "m"
   ]
  },
  {
   "cell_type": "markdown",
   "metadata": {},
   "source": [
    "#### DGGS Expand"
   ]
  },
  {
   "cell_type": "code",
   "execution_count": null,
   "metadata": {},
   "outputs": [],
   "source": [
    "from vgrid.conversion.dggscompact import rhealpixexpand\n",
    "rhealpix_expanded = rhealpixexpand(geojson_rhealpix, resolution=11, rhealpix_id=\"rhealpix\")\n",
    "\n",
    "# Visualize the output GeoJSON\n",
    "import folium\n",
    "\n",
    "m = folium.Map(tiles=\"CartoDB positron\")\n",
    "\n",
    "rhealpixexpanded_layer = folium.GeoJson(\n",
    "    rhealpix_expanded,\n",
    "    style_function=lambda x: {\n",
    "        \"fillColor\": \"blue\",\n",
    "        \"color\": \"black\",\n",
    "        \"fillOpacity\": 0.3,\n",
    "        \"weight\": 1,\n",
    "    },\n",
    "    tooltip=folium.GeoJsonTooltip(\n",
    "        fields=[\"rhealpix\", \"resolution\", \"cell_area\"],\n",
    "        aliases=[\"rHEALPix ID\", \"Resolution\", \"Area (m²)\"],\n",
    "        style=\"\"\"\n",
    "            background-color: white;\n",
    "            border: 2px solid black;\n",
    "            border-radius: 3px;\n",
    "            box-shadow: 3px;\n",
    "        \"\"\",\n",
    "    ),\n",
    ").add_to(m)\n",
    "\n",
    "m.fit_bounds(rhealpixexpanded_layer.get_bounds())\n",
    "\n",
    "# Display the map\n",
    "m"
   ]
  },
  {
   "cell_type": "markdown",
   "metadata": {},
   "source": [
    "### Raster to DGGS"
   ]
  },
  {
   "cell_type": "code",
   "execution_count": null,
   "metadata": {},
   "outputs": [],
   "source": [
    "from vgrid.conversion.raster2dggs.raster2tilecode import raster2tilecode\n",
    "from vgrid.utils.download import download_file\n",
    "\n",
    "raster_url = (\n",
    "    \"https://raw.githubusercontent.com/opengeoshub/vopendata/main/raster/rgb.tif\"\n",
    ")\n",
    "raster_file = download_file(raster_url)\n",
    "\n",
    "# Convert rasteto GeoJSON raster2h3(raster_file)\n",
    "raster2isea4t_csv = raster2tilecode(raster_file, output_format=\"csv\")\n",
    "# print(raster2isea4t_csv)\n",
    "raster2isea4t_geojson = raster2tilecode(raster_file, output_format=\"geojson\")\n",
    "\n",
    "# Visualize the output GeoJSON\n",
    "import folium\n",
    "\n",
    "m = folium.Map(tiles=\"CartoDB positron\", max_zoom=28)\n",
    "\n",
    "h3_layer = folium.GeoJson(\n",
    "    raster2isea4t_geojson,\n",
    "    style_function=lambda x: {\n",
    "        \"fillColor\": f\"rgb({x['properties']['band_1']}, {x['properties']['band_2']}, {x['properties']['band_3']})\",\n",
    "        \"fillOpacity\": 1,\n",
    "        \"color\": \"black\",\n",
    "        \"weight\": 1,\n",
    "    },\n",
    "    popup=folium.GeoJsonPopup(\n",
    "        fields=[\"tilecode\", \"resolution\", \"band_1\", \"band_2\", \"band_3\", \"cell_area\"],\n",
    "        aliases=[\"H3 ID\", \"Resolution\", \"Band 1\", \"Band 2\", \"Band 3\", \"Area (m²)\"],\n",
    "        style=\"\"\"\n",
    "            background-color: white;\n",
    "            border: 2px solid black;\n",
    "            border-radius: 3px;\n",
    "            box-shadow: 3px;\n",
    "        \"\"\",\n",
    "    ),\n",
    ").add_to(m)\n",
    "\n",
    "m.fit_bounds(h3_layer.get_bounds())\n",
    "\n",
    "# Display the map\n",
    "m"
   ]
  },
  {
   "cell_type": "markdown",
   "metadata": {},
   "source": [
    "## DGGS Generator"
   ]
  },
  {
   "cell_type": "code",
   "execution_count": null,
   "metadata": {},
   "outputs": [],
   "source": [
    "from vgrid.generator.h3grid import h3grid\n",
    "\n",
    "h3_grid = h3grid(resolution=0,output_format=\"gpd\")\n",
    "h3_grid.plot(edgecolor='white')"
   ]
  },
  {
   "cell_type": "markdown",
   "metadata": {},
   "source": [
    "### DGGS Statistics"
   ]
  },
  {
   "cell_type": "code",
   "execution_count": null,
   "metadata": {},
   "outputs": [],
   "source": [
    "from vgrid.stats.h3stats import h3stats\n",
    "h3stats()"
   ]
  }
 ],
 "metadata": {
  "jupytext": {
   "default_lexer": "ipython3"
  },
  "kernelspec": {
   "display_name": ".venv",
   "language": "python",
   "name": "python3"
  }
 },
 "nbformat": 4,
 "nbformat_minor": 5
}
