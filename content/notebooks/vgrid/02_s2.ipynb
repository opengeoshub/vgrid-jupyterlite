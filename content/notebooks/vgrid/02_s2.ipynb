{
 "cells": [
  {
   "cell_type": "markdown",
   "metadata": {},
   "source": [
    "## Working with S2 in Vgrid DGGS\n",
    "\n",
    "[![image](https://jupyterlite.rtfd.io/en/latest/_static/badge.svg)](https://demo.vgrid.vn/lab/index.html?path=vgrid/02_s2.ipynb)\n",
    "[![image](https://colab.research.google.com/assets/colab-badge.svg)](https://colab.research.google.com/github/opengeoshub/vgrid/blob/main/docs/notebooks/02_s2.ipynb)\n",
    "[![image](https://mybinder.org/badge_logo.svg)](https://mybinder.org/v2/gh/opengeoshub/vgrid/HEAD?filepath=docs/notebooks/02_s2.ipynb)\n",
    "[![image](https://studiolab.sagemaker.aws/studiolab.svg)](https://studiolab.sagemaker.aws/import/github/opengeoshub/vgrid/blob/main/docs/notebooks/02_s2.ipynb)\n",
    "[![image](https://jupyterlite.rtfd.io/en/latest/_static/badge.svg)](https://demo.gishub.vn/lab/index.html?path=notebooks/vgrid/02_s2.ipynb)\n",
    "\n",
    "Full Vgrid DGGS documentation is available at [vgrid document](https://vgrid.gishub.vn).\n",
    "\n",
    "To work with Vgrid DGGS directly in GeoPandas and Pandas, please use [vgridpandas](https://pypi.org/project/vgridpandas/). Full Vgridpandas DGGS documentation is available at [vgridpandas document](https://vgridpandas.gishub.vn).\n",
    "\n",
    "To work with Vgrid DGGS in QGIS, install the [Vgrid Plugin](https://plugins.qgis.org/plugins/vgridtools/).\n",
    "\n",
    "To visualize DGGS in Maplibre GL JS, try the [vgrid-maplibre](https://www.npmjs.com/package/vgrid-maplibre) library.\n",
    "\n",
    "For an interactive demo, visit the [Vgrid Homepage](https://vgrid.vn)."
   ]
  },
  {
   "cell_type": "markdown",
   "metadata": {},
   "source": [
    "### Install vgrid"
   ]
  },
  {
   "cell_type": "code",
   "execution_count": null,
   "metadata": {},
   "outputs": [],
   "source": [
    "# %pip install vgrid --upgrade"
   ]
  },
  {
   "cell_type": "markdown",
   "metadata": {},
   "source": [
    "### latlon2s2"
   ]
  },
  {
   "cell_type": "code",
   "execution_count": null,
   "metadata": {},
   "outputs": [],
   "source": [
    "from vgrid.conversion.latlon2dggs import latlon2s2\n",
    "\n",
    "lat = 10.775276\n",
    "lon = 106.706797\n",
    "res = 12\n",
    "s2_token = latlon2s2(lat, lon, res)\n",
    "s2_token"
   ]
  },
  {
   "cell_type": "markdown",
   "metadata": {},
   "source": [
    "### S2 to Polygon"
   ]
  },
  {
   "cell_type": "code",
   "execution_count": null,
   "metadata": {},
   "outputs": [],
   "source": [
    "from vgrid.conversion.dggs2geo.s22geo import s22geo\n",
    "\n",
    "s2_geo = s22geo(s2_token)\n",
    "s2_geo"
   ]
  },
  {
   "cell_type": "markdown",
   "metadata": {},
   "source": [
    "### S2 to GeoJSON"
   ]
  },
  {
   "cell_type": "code",
   "execution_count": null,
   "metadata": {},
   "outputs": [],
   "source": [
    "from vgrid.conversion.dggs2geo.s22geo import s22geojson\n",
    "\n",
    "s2_geojson = s22geojson(s2_token)\n",
    "s2_geojson"
   ]
  },
  {
   "cell_type": "markdown",
   "metadata": {},
   "source": [
    "### Vector to S2"
   ]
  },
  {
   "cell_type": "code",
   "execution_count": null,
   "metadata": {},
   "outputs": [],
   "source": [
    "from vgrid.conversion.vector2dggs.vector2s2 import vector2s2\n",
    "\n",
    "file_path = \"https://raw.githubusercontent.com/opengeoshub/vopendata/main/shape/polygon2.geojson\"\n",
    "vector_to_s2 = vector2s2(\n",
    "    file_path,\n",
    "    resolution=17,\n",
    "    compact=False,\n",
    "    topology=True,\n",
    "    predicate=\"intersects\",\n",
    "    output_format=\"gpd\",\n",
    ")\n",
    "# Visualize vector_to_s2\n",
    "vector_to_s2.plot(edgecolor=\"white\")"
   ]
  },
  {
   "cell_type": "markdown",
   "metadata": {},
   "source": [
    "### S2 Compact"
   ]
  },
  {
   "cell_type": "code",
   "execution_count": null,
   "metadata": {},
   "outputs": [],
   "source": [
    "from vgrid.conversion.dggscompact.s2compact import s2compact\n",
    "\n",
    "s2_compacted = s2compact(vector_to_s2, s2_token=\"s2\", output_format=\"gpd\")\n",
    "s2_compacted.plot(edgecolor=\"white\")"
   ]
  },
  {
   "cell_type": "markdown",
   "metadata": {},
   "source": [
    "### S2 Expand"
   ]
  },
  {
   "cell_type": "code",
   "execution_count": null,
   "metadata": {},
   "outputs": [],
   "source": [
    "from vgrid.conversion.dggscompact.s2compact import s2expand\n",
    "\n",
    "s2_expanded = s2expand(vector_to_s2, resolution=18, output_format=\"gpd\")\n",
    "s2_expanded.plot(edgecolor=\"white\")"
   ]
  },
  {
   "cell_type": "markdown",
   "metadata": {},
   "source": [
    "### S2 Binning"
   ]
  },
  {
   "cell_type": "code",
   "execution_count": null,
   "metadata": {},
   "outputs": [],
   "source": [
    "from vgrid.binning.s2bin import s2bin\n",
    "\n",
    "file_path = (\n",
    "    \"https://raw.githubusercontent.com/opengeoshub/vopendata/main/csv/dist1_pois.csv\"\n",
    ")\n",
    "stats = \"count\"\n",
    "s2_bin = s2bin(\n",
    "    file_path,\n",
    "    resolution=16,\n",
    "    stats=stats,\n",
    "    # numeric_field=\"confidence\",\n",
    "    # category=\"category\",\n",
    "    output_format=\"gpd\",\n",
    ")\n",
    "s2_bin.plot(\n",
    "    column=stats,  # numeric column to base the colors on\n",
    "    cmap=\"Spectral_r\",  # color scheme (matplotlib colormap)\n",
    "    legend=True,\n",
    "    linewidth=0.2,  # boundary width (optional)\n",
    ")"
   ]
  },
  {
   "cell_type": "markdown",
   "metadata": {},
   "source": [
    "### Raster to S2"
   ]
  },
  {
   "cell_type": "markdown",
   "metadata": {},
   "source": [
    "#### Download and open raster"
   ]
  },
  {
   "cell_type": "code",
   "execution_count": null,
   "metadata": {},
   "outputs": [],
   "source": [
    "from vgrid.utils.io import download_file\n",
    "import rasterio\n",
    "from rasterio.plot import show\n",
    "\n",
    "raster_url = (\n",
    "    \"https://raw.githubusercontent.com/opengeoshub/vopendata/main/raster/rgb.tif\"\n",
    ")\n",
    "raster_file = download_file(raster_url)\n",
    "src = rasterio.open(raster_file, \"r\")\n",
    "print(src.meta)\n",
    "show(src)"
   ]
  },
  {
   "cell_type": "markdown",
   "metadata": {},
   "source": [
    "#### Convert raster to S2"
   ]
  },
  {
   "cell_type": "code",
   "execution_count": null,
   "metadata": {},
   "outputs": [],
   "source": [
    "# %pip install folium"
   ]
  },
  {
   "cell_type": "code",
   "execution_count": null,
   "metadata": {},
   "outputs": [],
   "source": [
    "from vgrid.conversion.raster2dggs.raster2s2 import raster2s2\n",
    "\n",
    "\n",
    "raster_to_s2 = raster2s2(raster_file, output_format=\"gpd\")\n",
    "# Visualize raster_to_s2\n",
    "import folium\n",
    "\n",
    "m = folium.Map(tiles=\"CartoDB positron\", max_zoom=28)\n",
    "\n",
    "s2_layer = folium.GeoJson(\n",
    "    raster_to_s2,\n",
    "    style_function=lambda x: {\n",
    "        \"fillColor\": f\"rgb({x['properties']['band_1']}, {x['properties']['band_2']}, {x['properties']['band_3']})\",\n",
    "        \"fillOpacity\": 1,\n",
    "        \"color\": \"black\",\n",
    "        \"weight\": 1,\n",
    "    },\n",
    "    popup=folium.GeoJsonPopup(\n",
    "        fields=[\"s2\", \"resolution\", \"band_1\", \"band_2\", \"band_3\", \"cell_area\"],\n",
    "        aliases=[\"S2 Token\", \"Resolution\", \"Band 1\", \"Band 2\", \"Band 3\", \"Area (m²)\"],\n",
    "        style=\"\"\"\n",
    "            background-color: white;\n",
    "            border: 2px solid black;\n",
    "            border-radius: 3px;\n",
    "            box-shadow: 3px;\n",
    "        \"\"\",\n",
    "    ),\n",
    ").add_to(m)\n",
    "\n",
    "m.fit_bounds(s2_layer.get_bounds())\n",
    "\n",
    "# Display the map\n",
    "m"
   ]
  },
  {
   "cell_type": "markdown",
   "metadata": {},
   "source": [
    "### S2 Generator"
   ]
  },
  {
   "cell_type": "code",
   "execution_count": null,
   "metadata": {},
   "outputs": [],
   "source": [
    "from vgrid.generator.s2grid import s2grid\n",
    "\n",
    "s2_grid = s2grid(resolution=2, output_format=\"gpd\")\n",
    "# s2_grid = s2grid(resolution=16,bbox=[106.699007, 10.762811, 106.717674, 10.778649],output_format=\"gpd\")\n",
    "s2_grid.plot(edgecolor=\"white\")"
   ]
  },
  {
   "cell_type": "markdown",
   "metadata": {},
   "source": [
    "### S2 Inspect"
   ]
  },
  {
   "cell_type": "code",
   "execution_count": null,
   "metadata": {},
   "outputs": [],
   "source": [
    "from vgrid.stats.s2stats import s2inspect\n",
    "\n",
    "resolution = 6\n",
    "s2_inspect = s2inspect(resolution)\n",
    "s2_inspect.head()"
   ]
  },
  {
   "cell_type": "markdown",
   "metadata": {},
   "source": [
    "### S2 Normalized Area Histogram"
   ]
  },
  {
   "cell_type": "code",
   "execution_count": null,
   "metadata": {},
   "outputs": [],
   "source": [
    "from vgrid.stats.s2stats import s2_norm_area_hist\n",
    "\n",
    "s2_norm_area_hist(s2_inspect)"
   ]
  },
  {
   "cell_type": "markdown",
   "metadata": {},
   "source": [
    "### S2 IPQ Compactness Histogram"
   ]
  },
  {
   "cell_type": "markdown",
   "metadata": {},
   "source": [
    "### Distribution of S2 Area Distortions"
   ]
  },
  {
   "cell_type": "code",
   "execution_count": null,
   "metadata": {},
   "outputs": [],
   "source": [
    "from vgrid.stats.s2stats import s2_norm_area\n",
    "\n",
    "s2_norm_area(s2_inspect)"
   ]
  },
  {
   "cell_type": "markdown",
   "metadata": {},
   "source": [
    "### S2 IPQ Compactness Histogram"
   ]
  },
  {
   "cell_type": "markdown",
   "metadata": {},
   "source": [
    "Isoperimetric Inequality (IPQ) Compactness (suggested by Osserman, 1987):\n",
    "$$C_{IPQ} = \\frac{4 \\pi A}{p^2}$$\n",
    "The range of the IPQ compactness metric is [0,1]. \n",
    "\n",
    "A circle represents the maximum compactness with a value of 1. \n",
    "\n",
    "As shapes become more irregular or elongated, their compactness decreases toward 0."
   ]
  },
  {
   "cell_type": "code",
   "execution_count": null,
   "metadata": {},
   "outputs": [],
   "source": [
    "from vgrid.stats.s2stats import s2_compactness_hist\n",
    "\n",
    "s2_compactness_hist(s2_inspect)"
   ]
  },
  {
   "cell_type": "markdown",
   "metadata": {},
   "source": [
    "### Distribution of S2 IPQ Compactness"
   ]
  },
  {
   "cell_type": "code",
   "execution_count": null,
   "metadata": {},
   "outputs": [],
   "source": [
    "from vgrid.stats.s2stats import s2_compactness\n",
    "\n",
    "s2_compactness(s2_inspect)"
   ]
  },
  {
   "cell_type": "markdown",
   "metadata": {},
   "source": [
    "### S2 Statistics"
   ]
  },
  {
   "cell_type": "markdown",
   "metadata": {},
   "source": [
    "Characteristic Length Scale (CLS - suggested by Ralph Kahn): the diameter of a spherical cap of the same cell's area"
   ]
  },
  {
   "cell_type": "code",
   "execution_count": null,
   "metadata": {},
   "outputs": [],
   "source": [
    "from vgrid.stats.s2stats import s2stats\n",
    "\n",
    "s2stats()"
   ]
  }
 ],
 "metadata": {
  "jupytext": {
   "default_lexer": "ipython3"
  },
  "kernelspec": {
   "display_name": ".venv",
   "language": "python",
   "name": "python3"
  }
 },
 "nbformat": 4,
 "nbformat_minor": 5
}
