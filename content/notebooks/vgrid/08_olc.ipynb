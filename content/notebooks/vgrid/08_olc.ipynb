{
 "cells": [
  {
   "cell_type": "markdown",
   "metadata": {},
   "source": [
    "## Working with OLC in Vgrid DGGS\n",
    "\n",
    "[![image](https://jupyterlite.rtfd.io/en/latest/_static/badge.svg)](https://demo.gishub.vn/lab/index.html?path=notebooks/vgrid/08_olc.ipynb)\n",
    "[![image](https://colab.research.google.com/assets/colab-badge.svg)](https://colab.research.google.com/github/opengeoshub/vgrid/blob/master)\n",
    "[![image](https://mybinder.org/badge_logo.svg)](https://mybinder.org/v2/gh/opengeoshub/vgrid/HEAD)\n",
    "\n",
    "For working with Vgrid DGGS directly in GeoPandas and Pandas, please use [vgridpandas](https://pypi.org/project/vgridpandas/), [vgridpandas document](https://vgridpandas.gishub.vn)"
   ]
  },
  {
   "cell_type": "markdown",
   "metadata": {},
   "source": [
    "### Install vgrid\n",
    "Uncomment the following line to install [vgrid](https://pypi.org/project/vgrid/) if needed."
   ]
  },
  {
   "cell_type": "code",
   "execution_count": null,
   "metadata": {},
   "outputs": [],
   "source": [
    "# %pip install vgrid --upgrade"
   ]
  },
  {
   "cell_type": "markdown",
   "metadata": {},
   "source": [
    "### latlon2olc"
   ]
  },
  {
   "cell_type": "code",
   "execution_count": null,
   "metadata": {},
   "outputs": [],
   "source": [
    "from vgrid.conversion.latlon2dggs import latlon2olc\n",
    "\n",
    "lat = 10.775276\n",
    "lon = 106.706797\n",
    "res = 8\n",
    "olc_id = latlon2olc(lat, lon, res)\n",
    "olc_id"
   ]
  },
  {
   "cell_type": "markdown",
   "metadata": {},
   "source": [
    "### OLC to Shapely Polygons"
   ]
  },
  {
   "cell_type": "code",
   "execution_count": null,
   "metadata": {},
   "outputs": [],
   "source": [
    "from vgrid.conversion.dggs2geo.olc2geo  import olc2geo\n",
    "\n",
    "olc_geo = olc2geo(olc_id)\n",
    "olc_geo"
   ]
  },
  {
   "cell_type": "markdown",
   "metadata": {},
   "source": [
    "### OLC to GeoJSON"
   ]
  },
  {
   "cell_type": "code",
   "execution_count": null,
   "metadata": {},
   "outputs": [],
   "source": [
    "from vgrid.conversion.dggs2geo.olc2geo import olc2geojson\n",
    "\n",
    "olc_geojson = olc2geojson(olc_id)\n",
    "olc_geojson"
   ]
  },
  {
   "cell_type": "markdown",
   "metadata": {},
   "source": [
    "### Vector to OLC"
   ]
  },
  {
   "cell_type": "code",
   "execution_count": null,
   "metadata": {},
   "outputs": [],
   "source": [
    "# %pip install folium"
   ]
  },
  {
   "cell_type": "code",
   "execution_count": null,
   "metadata": {},
   "outputs": [],
   "source": [
    "from vgrid.conversion.vector2dggs.vector2olc import vector2olc\n",
    "\n",
    "file_path = (\n",
    "    \"https://raw.githubusercontent.com/opengeoshub/vopendata/main/shape/polygon.geojson\"\n",
    ")\n",
    "olc_geojson = vector2olc(file_path, resolution=8, compact=False, predicate = \"intersects\")\n",
    "# Change compact to True to see the compact version of the rHEALPix cells\n",
    "\n",
    "# Visualize the output GeoJSON\n",
    "import folium\n",
    "\n",
    "m = folium.Map(tiles=\"CartoDB positron\")\n",
    "\n",
    "olc_layer = folium.GeoJson(\n",
    "olc_geojson,\n",
    "style_function=lambda x: {\n",
    "    \"fillColor\": \"blue\",\n",
    "    \"color\": \"black\",\n",
    "    \"fillOpacity\": 0.3,\n",
    "    \"weight\": 1,\n",
    "},\n",
    "tooltip=folium.GeoJsonTooltip(\n",
    "    fields=[\"olc\", \"resolution\", \"cell_area\"],\n",
    "    aliases=[\"olc ID\", \"Resolution\", \"Area (m²)\"],\n",
    "    style=\"\"\"\n",
    "        background-color: white;\n",
    "        border: 2px solid black;\n",
    "        border-radius: 3px;\n",
    "        box-shadow: 3px;\n",
    "    \"\"\",\n",
    "),\n",
    ").add_to(m)\n",
    "\n",
    "m.fit_bounds(olc_layer.get_bounds())\n",
    "\n",
    "# Display the map\n",
    "m"
   ]
  },
  {
   "cell_type": "markdown",
   "metadata": {},
   "source": [
    "### OLC Compact"
   ]
  },
  {
   "cell_type": "code",
   "execution_count": null,
   "metadata": {},
   "outputs": [],
   "source": [
    "from vgrid.conversion.dggscompact import olccompact\n",
    "\n",
    "olc_compacted = olccompact(\n",
    "    olc_geojson, olc_id=\"olc\"\n",
    ")\n",
    "\n",
    "# Visualize the output GeoJSON\n",
    "import folium\n",
    "\n",
    "m = folium.Map(tiles=\"CartoDB positron\")\n",
    "\n",
    "olc_compacted_layer = folium.GeoJson(\n",
    "    olc_compacted,\n",
    "    style_function=lambda x: {\n",
    "        \"fillColor\": \"blue\",\n",
    "        \"color\": \"black\",\n",
    "        \"fillOpacity\": 0.3,\n",
    "        \"weight\": 1,\n",
    "    },\n",
    "    tooltip=folium.GeoJsonTooltip(\n",
    "        fields=[\"olc\", \"resolution\", \"cell_area\"],\n",
    "        aliases=[\"OLC ID\", \"Resolution\", \"Area (m²)\"],\n",
    "        style=\"\"\"\n",
    "            background-color: white;\n",
    "            border: 2px solid black;\n",
    "            border-radius: 3px;\n",
    "            box-shadow: 3px;\n",
    "        \"\"\",\n",
    "    ),\n",
    ").add_to(m)\n",
    "\n",
    "m.fit_bounds(olc_compacted_layer.get_bounds())\n",
    "\n",
    "# Display the map\n",
    "m"
   ]
  },
  {
   "cell_type": "markdown",
   "metadata": {},
   "source": [
    "### OLC Expand"
   ]
  },
  {
   "cell_type": "code",
   "execution_count": null,
   "metadata": {},
   "outputs": [],
   "source": [
    "from vgrid.conversion.dggscompact import olcexpand\n",
    "\n",
    "olc_expanded = olcexpand(\n",
    "    olc_geojson, resolution=10\n",
    ")\n",
    "\n",
    "# Visualize the output GeoJSON\n",
    "import folium\n",
    "\n",
    "m = folium.Map(tiles=\"CartoDB positron\")\n",
    "\n",
    "olc_expanded_layer = folium.GeoJson(\n",
    "    olc_expanded,\n",
    "    style_function=lambda x: {\n",
    "        \"fillColor\": \"blue\",\n",
    "        \"color\": \"black\",\n",
    "        \"fillOpacity\": 0.3,\n",
    "        \"weight\": 1,\n",
    "    },\n",
    "    tooltip=folium.GeoJsonTooltip(\n",
    "        fields=[\"olc\", \"resolution\", \"cell_area\"],\n",
    "        aliases=[\"olc ID\", \"Resolution\", \"Area (m²)\"],\n",
    "        style=\"\"\"\n",
    "            background-color: white;\n",
    "            border: 2px solid black;\n",
    "            border-radius: 3px;\n",
    "            box-shadow: 3px;\n",
    "        \"\"\",\n",
    "    ),\n",
    ").add_to(m)\n",
    "\n",
    "m.fit_bounds(olc_expanded_layer.get_bounds())\n",
    "\n",
    "# Display the map\n",
    "m"
   ]
  },
  {
   "cell_type": "markdown",
   "metadata": {},
   "source": [
    "### OLC Binning"
   ]
  },
  {
   "cell_type": "code",
   "execution_count": null,
   "metadata": {},
   "outputs": [],
   "source": [
    "from vgrid.binning.olcbin import olcbin\n",
    "import geopandas as gpd\n",
    "file_path = (\n",
    "    \"https://raw.githubusercontent.com/opengeoshub/vopendata/main/csv/dist1_pois.csv\"\n",
    ")\n",
    "olc_bin = olcbin(file_path, resolution=8, stats=\"count\")\n",
    "olc_bin"
   ]
  },
  {
   "cell_type": "markdown",
   "metadata": {},
   "source": [
    "### OLC Grid Generator"
   ]
  },
  {
   "cell_type": "code",
   "execution_count": null,
   "metadata": {},
   "outputs": [],
   "source": [
    "from vgrid.generator.olcgrid import olcgrid\n",
    "# olc_grid = olcgrid(resolution=2,output_format=\"gpd\")\n",
    "olc_grid = olcgrid(resolution=8,bbox=[106.699007, 10.762811, 106.717674, 10.778649],output_format=\"gpd\")\n",
    "olc_grid.plot(edgecolor=\"white\")"
   ]
  },
  {
   "cell_type": "markdown",
   "metadata": {},
   "source": [
    "### OLC Statistics"
   ]
  },
  {
   "cell_type": "code",
   "execution_count": null,
   "metadata": {},
   "outputs": [],
   "source": [
    "from vgrid.stats import olcstats\n",
    "olcstats()"
   ]
  }
 ],
 "metadata": {
  "jupytext": {
   "default_lexer": "ipython3"
  },
  "kernelspec": {
   "display_name": ".venv",
   "language": "python",
   "name": "python3"
  }
 },
 "nbformat": 4,
 "nbformat_minor": 5
}
