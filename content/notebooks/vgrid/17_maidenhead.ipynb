{
 "cells": [
  {
   "cell_type": "markdown",
   "metadata": {},
   "source": [
    "## Working with Maidenhead in Vgrid DGGS\n",
    "\n",
    "[![image](https://jupyterlite.rtfd.io/en/latest/_static/badge.svg)](https://demo.vgrid.vn/lab/index.html?path=vgrid/17_maidenhead.ipynb)\n",
    "[![image](https://colab.research.google.com/assets/colab-badge.svg)](https://colab.research.google.com/github/opengeoshub/vgrid/blob/main/docs/notebooks/17_maidenhead.ipynb)\n",
    "[![image](https://mybinder.org/badge_logo.svg)](https://mybinder.org/v2/gh/opengeoshub/vgrid/HEAD?filepath=docs/notebooks/17_maidenhead.ipynb)\n",
    "[![image](https://studiolab.sagemaker.aws/studiolab.svg)](https://studiolab.sagemaker.aws/import/github/opengeoshub/vgrid/blob/main/docs/notebooks/17_maidenhead.ipynb)\n",
    "[![image](https://jupyterlite.rtfd.io/en/latest/_static/badge.svg)](https://demo.gishub.vn/lab/index.html?path=notebooks/vgrid/17_maidenhead.ipynb)\n",
    "\n",
    "Full Vgrid DGGS documentation is available at [vgrid document](https://vgrid.gishub.vn).\n",
    "\n",
    "To work with Vgrid DGGS directly in GeoPandas and Pandas, please use [vgridpandas](https://pypi.org/project/vgridpandas/). Full Vgridpandas DGGS documentation is available at [vgridpandas document](https://vgridpandas.gishub.vn).\n",
    "\n",
    "To work with Vgrid DGGS in QGIS, install the [Vgrid Plugin](https://plugins.qgis.org/plugins/vgridtools/).\n",
    "\n",
    "To visualize DGGS in Maplibre GL JS, try the [vgrid-maplibre](https://www.npmjs.com/package/vgrid-maplibre) library.\n",
    "\n",
    "For an interactive demo, visit the [Vgrid Homepage](https://vgrid.vn)."
   ]
  },
  {
   "cell_type": "markdown",
   "metadata": {},
   "source": [
    "### Install vgrid\n",
    "Uncomment the following line to install [vgrid](https://pypi.org/project/vgrid/)."
   ]
  },
  {
   "cell_type": "code",
   "execution_count": null,
   "metadata": {},
   "outputs": [],
   "source": [
    "# %pip install vgrid --upgrade"
   ]
  },
  {
   "cell_type": "markdown",
   "metadata": {},
   "source": [
    "### latlon2maidenhead"
   ]
  },
  {
   "cell_type": "code",
   "execution_count": null,
   "metadata": {},
   "outputs": [],
   "source": [
    "from vgrid.conversion.latlon2dggs import latlon2maidenhead\n",
    "\n",
    "lat = 10.775276\n",
    "lon = 106.706797\n",
    "res = 3\n",
    "maidenhead_id = latlon2maidenhead(lat, lon, res)\n",
    "maidenhead_id"
   ]
  },
  {
   "cell_type": "markdown",
   "metadata": {},
   "source": [
    "### Maidenhead to Shapely Polygon"
   ]
  },
  {
   "cell_type": "code",
   "execution_count": null,
   "metadata": {},
   "outputs": [],
   "source": [
    "from vgrid.conversion.dggs2geo.maidenhead2geo  import maidenhead2geo\n",
    "\n",
    "maidenhead_geo = maidenhead2geo(maidenhead_id)\n",
    "maidenhead_geo"
   ]
  },
  {
   "cell_type": "markdown",
   "metadata": {},
   "source": [
    "### Maidenhead to GeoJSON"
   ]
  },
  {
   "cell_type": "code",
   "execution_count": null,
   "metadata": {},
   "outputs": [],
   "source": [
    "from vgrid.conversion.dggs2geo.maidenhead2geo import maidenhead2geojson\n",
    "\n",
    "maidenhead_geojson = maidenhead2geojson(maidenhead_id)\n",
    "maidenhead_geojson"
   ]
  },
  {
   "cell_type": "markdown",
   "metadata": {},
   "source": [
    "### Maidenhead Generator"
   ]
  },
  {
   "cell_type": "code",
   "execution_count": null,
   "metadata": {},
   "outputs": [],
   "source": [
    "from vgrid.generator.maidenheadgrid import maidenheadgrid\n",
    "maidenhead_grid = maidenheadgrid(resolution=2,output_format=\"gpd\")\n",
    "# maidenhead_grid = maidenheadgrid(resolution=3,bbox=[102.14,7.69,114.86,23.39],output_format=\"gpd\")\n",
    "maidenhead_grid.plot(edgecolor=\"#3474eb\",facecolor=\"none\",linewidth=0.1)"
   ]
  },
  {
   "cell_type": "markdown",
   "metadata": {},
   "source": [
    "### Maidenhead Inspect"
   ]
  },
  {
   "cell_type": "code",
   "execution_count": null,
   "metadata": {},
   "outputs": [],
   "source": [
    "from vgrid.stats.maidenheadstats import maidenheadinspect \n",
    "resolution = 2\n",
    "maidenhead_inspect = maidenheadinspect(resolution)    \n",
    "maidenhead_inspect.head()"
   ]
  },
  {
   "cell_type": "markdown",
   "metadata": {},
   "source": [
    "### Distribution of Maidenhead Area Distortions"
   ]
  },
  {
   "cell_type": "code",
   "execution_count": null,
   "metadata": {},
   "outputs": [],
   "source": [
    "from vgrid.stats.maidenheadstats import maidenhead_norm_area\n",
    "maidenhead_norm_area(maidenhead_inspect)"
   ]
  },
  {
   "cell_type": "markdown",
   "metadata": {},
   "source": [
    "### Distribution of Maidenhead IPQ Compactness"
   ]
  },
  {
   "cell_type": "code",
   "execution_count": null,
   "metadata": {},
   "outputs": [],
   "source": [
    "from vgrid.stats.maidenheadstats import maidenhead_compactness\n",
    "maidenhead_compactness(maidenhead_inspect)"
   ]
  },
  {
   "cell_type": "markdown",
   "metadata": {},
   "source": [
    "### Maidenhead Statistics"
   ]
  },
  {
   "cell_type": "code",
   "execution_count": null,
   "metadata": {},
   "outputs": [],
   "source": [
    "from vgrid.stats import maidenheadstats            \n",
    "maidenheadstats('km')"
   ]
  }
 ],
 "metadata": {
  "jupytext": {
   "default_lexer": "ipython3"
  },
  "kernelspec": {
   "display_name": ".venv",
   "language": "python",
   "name": "python3"
  }
 },
 "nbformat": 4,
 "nbformat_minor": 5
}
