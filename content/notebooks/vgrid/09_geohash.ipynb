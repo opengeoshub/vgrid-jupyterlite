{
 "cells": [
  {
   "cell_type": "markdown",
   "metadata": {},
   "source": [
    "## Working withGgeohash in Vgrid DGGS\n",
    "\n",
    "[![image](https://jupyterlite.rtfd.io/en/latest/_static/badge.svg)](https://demo.gishub.vn/lab/index.html?path=notebooks/vgrid/09_geohash.ipynb)\n",
    "[![image](https://colab.research.google.com/assets/colab-badge.svg)](https://colab.research.google.com/github/opengeoshub/vgrid/blob/master)\n",
    "[![image](https://mybinder.org/badge_logo.svg)](https://mybinder.org/v2/gh/opengeoshub/vgrid/HEAD)\n",
    "\n",
    "For working with Vgrid DGGS directly in GeoPandas and Pandas, please use [vgridpandas](https://pypi.org/project/vgridpandas/), [vgridpandas document](https://vgridpandas.gishub.vn)"
   ]
  },
  {
   "cell_type": "markdown",
   "metadata": {},
   "source": [
    "### Install vgrid\n",
    "Uncomment the following line to install [vgrid](https://pypi.org/project/vgrid/) if needed."
   ]
  },
  {
   "cell_type": "code",
   "execution_count": null,
   "metadata": {},
   "outputs": [],
   "source": [
    "# %pip install vgrid --upgrade"
   ]
  },
  {
   "cell_type": "markdown",
   "metadata": {},
   "source": [
    "### latlon2geohash"
   ]
  },
  {
   "cell_type": "code",
   "execution_count": null,
   "metadata": {},
   "outputs": [],
   "source": [
    "from vgrid.conversion.latlon2dggs import latlon2geohash\n",
    "\n",
    "lat = 10.775276\n",
    "lon = 106.706797\n",
    "res = 6\n",
    "geohash_id = latlon2geohash(lat, lon, res)\n",
    "geohash_id"
   ]
  },
  {
   "cell_type": "markdown",
   "metadata": {},
   "source": [
    "### Geohash to Shapely Polygons"
   ]
  },
  {
   "cell_type": "code",
   "execution_count": null,
   "metadata": {},
   "outputs": [],
   "source": [
    "from vgrid.conversion.dggs2geo.geohash2geo  import geohash2geo\n",
    "\n",
    "geohash_geo = geohash2geo(geohash_id)\n",
    "geohash_geo"
   ]
  },
  {
   "cell_type": "markdown",
   "metadata": {},
   "source": [
    "### Geohash to GeoJSON"
   ]
  },
  {
   "cell_type": "code",
   "execution_count": null,
   "metadata": {},
   "outputs": [],
   "source": [
    "from vgrid.conversion.dggs2geo.geohash2geo import geohash2geojson\n",
    "\n",
    "geohash_geojson = geohash2geojson(geohash_id)\n",
    "geohash_geojson"
   ]
  },
  {
   "cell_type": "markdown",
   "metadata": {},
   "source": [
    "### Vector to Geohash"
   ]
  },
  {
   "cell_type": "code",
   "execution_count": null,
   "metadata": {},
   "outputs": [],
   "source": [
    "# %pip install folium"
   ]
  },
  {
   "cell_type": "code",
   "execution_count": null,
   "metadata": {},
   "outputs": [],
   "source": [
    "from vgrid.conversion.vector2dggs.vector2geohash import vector2geohash\n",
    "\n",
    "file_path = (\n",
    "    \"https://raw.githubusercontent.com/opengeoshub/vopendata/main/shape/polygon.geojson\"\n",
    ")\n",
    "geohash_geojson = vector2geohash(file_path, resolution=7, compact=False, predicate = \"intersects\")\n",
    "# Change compact to True to see the compact version of the rHEALPix cells\n",
    "\n",
    "# Visualize the output GeoJSON\n",
    "import folium\n",
    "\n",
    "m = folium.Map(tiles=\"CartoDB positron\")\n",
    "\n",
    "geohash_layer = folium.GeoJson(\n",
    "geohash_geojson,\n",
    "style_function=lambda x: {\n",
    "    \"fillColor\": \"blue\",\n",
    "    \"color\": \"black\",\n",
    "    \"fillOpacity\": 0.3,\n",
    "    \"weight\": 1,\n",
    "},\n",
    "tooltip=folium.GeoJsonTooltip(\n",
    "    fields=[\"geohash\", \"resolution\", \"cell_area\"],\n",
    "    aliases=[\"geohash ID\", \"Resolution\", \"Area (m²)\"],\n",
    "    style=\"\"\"\n",
    "        background-color: white;\n",
    "        border: 2px solid black;\n",
    "        border-radius: 3px;\n",
    "        box-shadow: 3px;\n",
    "    \"\"\",\n",
    "),\n",
    ").add_to(m)\n",
    "\n",
    "m.fit_bounds(geohash_layer.get_bounds())\n",
    "\n",
    "# Display the map\n",
    "m"
   ]
  },
  {
   "cell_type": "markdown",
   "metadata": {},
   "source": [
    "### Geohash Compact"
   ]
  },
  {
   "cell_type": "code",
   "execution_count": null,
   "metadata": {},
   "outputs": [],
   "source": [
    "from vgrid.conversion.dggscompact import geohashcompact\n",
    "\n",
    "geohash_compacted = geohashcompact(\n",
    "    geohash_geojson, geohash_id=\"geohash\"\n",
    ")\n",
    "\n",
    "# Visualize the output GeoJSON\n",
    "import folium\n",
    "\n",
    "m = folium.Map(tiles=\"CartoDB positron\")\n",
    "\n",
    "geohash_compacted_layer = folium.GeoJson(\n",
    "    geohash_compacted,\n",
    "    style_function=lambda x: {\n",
    "        \"fillColor\": \"blue\",\n",
    "        \"color\": \"black\",\n",
    "        \"fillOpacity\": 0.3,\n",
    "        \"weight\": 1,\n",
    "    },\n",
    "    tooltip=folium.GeoJsonTooltip(\n",
    "        fields=[\"geohash\", \"resolution\", \"cell_area\"],\n",
    "        aliases=[\"geohash ID\", \"Resolution\", \"Area (m²)\"],\n",
    "        style=\"\"\"\n",
    "            background-color: white;\n",
    "            border: 2px solid black;\n",
    "            border-radius: 3px;\n",
    "            box-shadow: 3px;\n",
    "        \"\"\",\n",
    "    ),\n",
    ").add_to(m)\n",
    "\n",
    "m.fit_bounds(geohash_compacted_layer.get_bounds())\n",
    "\n",
    "# Display the map\n",
    "m"
   ]
  },
  {
   "cell_type": "markdown",
   "metadata": {},
   "source": [
    "### Geohash Expand"
   ]
  },
  {
   "cell_type": "code",
   "execution_count": null,
   "metadata": {},
   "outputs": [],
   "source": [
    "from vgrid.conversion.dggscompact import geohashexpand\n",
    "\n",
    "geohash_expanded = geohashexpand(\n",
    "    geohash_geojson, resolution=8\n",
    ")\n",
    "geohash_expanded\n",
    "# Visualize the output GeoJSON\n",
    "import folium\n",
    "\n",
    "m = folium.Map(tiles=\"CartoDB positron\")\n",
    "\n",
    "geohash_expanded_layer = folium.GeoJson(\n",
    "    geohash_expanded,\n",
    "    style_function=lambda x: {\n",
    "        \"fillColor\": \"blue\",\n",
    "        \"color\": \"black\",\n",
    "        \"fillOpacity\": 0.3,\n",
    "        \"weight\": 1,\n",
    "    },\n",
    "    tooltip=folium.GeoJsonTooltip(\n",
    "        fields=[\"geohash\", \"resolution\", \"cell_area\"],\n",
    "        aliases=[\"Geohash ID\", \"Resolution\", \"Area (m²)\"],\n",
    "        style=\"\"\"\n",
    "            background-color: white;\n",
    "            border: 2px solid black;\n",
    "            border-radius: 3px;\n",
    "            box-shadow: 3px;\n",
    "        \"\"\",\n",
    "    ),\n",
    ").add_to(m)\n",
    "\n",
    "m.fit_bounds(geohash_expanded_layer.get_bounds())\n",
    "\n",
    "# Display the map\n",
    "m"
   ]
  },
  {
   "cell_type": "markdown",
   "metadata": {},
   "source": [
    "### Geohash Binning"
   ]
  },
  {
   "cell_type": "code",
   "execution_count": null,
   "metadata": {},
   "outputs": [],
   "source": [
    "from vgrid.binning.geohashbin import geohashbin\n",
    "import geopandas as gpd\n",
    "file_path = (\n",
    "    \"https://raw.githubusercontent.com/opengeoshub/vopendata/main/csv/dist1_pois.csv\"\n",
    ")\n",
    "geohash_bin = geohashbin(file_path, resolution=8, stats=\"count\")\n",
    "geohash_bin"
   ]
  }
 ],
 "metadata": {
  "jupytext": {
   "default_lexer": "ipython3"
  },
  "kernelspec": {
   "display_name": ".venv",
   "language": "python",
   "name": "python3"
  }
 },
 "nbformat": 4,
 "nbformat_minor": 5
}
