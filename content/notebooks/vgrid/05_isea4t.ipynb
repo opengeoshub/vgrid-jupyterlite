{
 "cells": [
  {
   "cell_type": "markdown",
   "metadata": {},
   "source": [
    "## Working with Open-EAGGR ISEA4T in Vgrid DGGS\n",
    "\n",
    "[![image](https://jupyterlite.rtfd.io/en/latest/_static/badge.svg)](https://demo.vgrid.vn/lab/index.html?path=vgrid/05_isea4t.ipynb)\n",
    "[![image](https://colab.research.google.com/assets/colab-badge.svg)](https://colab.research.google.com/github/opengeoshub/vgrid/blob/main/docs/notebooks/05_isea4t.ipynb)\n",
    "[![image](https://mybinder.org/badge_logo.svg)](https://mybinder.org/v2/gh/opengeoshub/vgrid/HEAD?filepath=docs/notebooks/05_isea4t.ipynb)\n",
    "[![image](https://studiolab.sagemaker.aws/studiolab.svg)](https://studiolab.sagemaker.aws/import/github/opengeoshub/vgrid/blob/main/docs/notebooks/05_isea4t.ipynb)\n",
    "[![image](https://jupyterlite.rtfd.io/en/latest/_static/badge.svg)](https://demo.gishub.vn/lab/index.html?path=notebooks/vgrid/05_isea4t.ipynb)\n",
    "\n",
    "Full Vgrid DGGS documentation is available at [vgrid document](https://vgrid.gishub.vn).\n",
    "\n",
    "To work with Vgrid DGGS directly in GeoPandas and Pandas, please use [vgridpandas](https://pypi.org/project/vgridpandas/). Full Vgridpandas DGGS documentation is available at [vgridpandas document](https://vgridpandas.gishub.vn).\n",
    "\n",
    "To work with Vgrid DGGS in QGIS, install the [Vgrid Plugin](https://plugins.qgis.org/plugins/vgridtools/).\n",
    "\n",
    "To visualize DGGS in Maplibre GL JS, try the [vgrid-maplibre](https://www.npmjs.com/package/vgrid-maplibre) library.\n",
    "\n",
    "For an interactive demo, visit the [Vgrid Homepage](https://vgrid.vn)."
   ]
  },
  {
   "cell_type": "markdown",
   "metadata": {},
   "source": [
    "### Install vgrid\n",
    "Uncomment the following line to install [vgrid](https://pypi.org/project/vgrid/)."
   ]
  },
  {
   "cell_type": "code",
   "execution_count": null,
   "metadata": {},
   "outputs": [],
   "source": [
    "# %pip install vgrid --upgrade"
   ]
  },
  {
   "cell_type": "markdown",
   "metadata": {},
   "source": [
    "### latlon2isea4t"
   ]
  },
  {
   "cell_type": "code",
   "execution_count": null,
   "metadata": {},
   "outputs": [],
   "source": [
    "from vgrid.conversion.latlon2dggs import latlon2isea4t\n",
    "\n",
    "lat = 10.775276\n",
    "lon = 106.706797\n",
    "res = 12\n",
    "isea4t_id = latlon2isea4t(lat, lon, res)\n",
    "isea4t_id"
   ]
  },
  {
   "cell_type": "markdown",
   "metadata": {},
   "source": [
    "### ISEA4T to Polygon"
   ]
  },
  {
   "cell_type": "code",
   "execution_count": null,
   "metadata": {},
   "outputs": [],
   "source": [
    "from vgrid.conversion.dggs2geo.isea4t2geo import isea4t2geo\n",
    "\n",
    "isea4t_geo = isea4t2geo(isea4t_id)\n",
    "isea4t_geo"
   ]
  },
  {
   "cell_type": "markdown",
   "metadata": {},
   "source": [
    "### ISEA4T to GeoJSON"
   ]
  },
  {
   "cell_type": "code",
   "execution_count": null,
   "metadata": {},
   "outputs": [],
   "source": [
    "from vgrid.conversion.dggs2geo.isea4t2geo import isea4t2geojson\n",
    "\n",
    "isea4t_geojson = isea4t2geojson(isea4t_id)\n",
    "isea4t_geojson"
   ]
  },
  {
   "cell_type": "markdown",
   "metadata": {},
   "source": [
    "### Vector to ISEA4T"
   ]
  },
  {
   "cell_type": "code",
   "execution_count": null,
   "metadata": {},
   "outputs": [],
   "source": [
    "from vgrid.conversion.vector2dggs.vector2isea4t import vector2isea4t\n",
    "\n",
    "file_path = \"https://raw.githubusercontent.com/opengeoshub/vopendata/main/shape/polygon2.geojson\"\n",
    "vector_to_isea4t = vector2isea4t(\n",
    "    file_path,\n",
    "    resolution=16,\n",
    "    compact=False,\n",
    "    topology=True,\n",
    "    predicate=\"intersects\",\n",
    "    output_format=\"gpd\",\n",
    ")\n",
    "# Visualize the output\n",
    "vector_to_isea4t.plot()\n",
    "# vector_to_isea4t.plot(edgecolor=\"white\")"
   ]
  },
  {
   "cell_type": "markdown",
   "metadata": {},
   "source": [
    "### ISEA4T Compact"
   ]
  },
  {
   "cell_type": "code",
   "execution_count": null,
   "metadata": {},
   "outputs": [],
   "source": [
    "from vgrid.conversion.dggscompact.isea4tcompact import isea4tcompact\n",
    "\n",
    "isea4t_compacted = isea4tcompact(vector_to_isea4t, output_format=\"gpd\")\n",
    "isea4t_compacted.plot(edgecolor=\"white\")"
   ]
  },
  {
   "cell_type": "markdown",
   "metadata": {},
   "source": [
    "### ISEA4T Expand"
   ]
  },
  {
   "cell_type": "code",
   "execution_count": null,
   "metadata": {},
   "outputs": [],
   "source": [
    "from vgrid.conversion.dggscompact.isea4tcompact import isea4texpand\n",
    "\n",
    "isea4t_expanded = isea4texpand(vector_to_isea4t, resolution=17, output_format=\"gpd\")\n",
    "isea4t_expanded.plot(edgecolor=\"white\")"
   ]
  },
  {
   "cell_type": "markdown",
   "metadata": {},
   "source": [
    "### ISEA4T Binning"
   ]
  },
  {
   "cell_type": "code",
   "execution_count": null,
   "metadata": {},
   "outputs": [],
   "source": [
    "from vgrid.binning.isea4tbin import isea4tbin\n",
    "\n",
    "file_path = (\n",
    "    \"https://raw.githubusercontent.com/opengeoshub/vopendata/main/csv/dist1_pois.csv\"\n",
    ")\n",
    "stats = \"count\"\n",
    "isea4t_bin = isea4tbin(\n",
    "    file_path,\n",
    "    resolution=15,\n",
    "    stats=stats,\n",
    "    # numeric_field=\"confidence\",\n",
    "    # category=\"category\",\n",
    "    output_format=\"gpd\",\n",
    ")\n",
    "isea4t_bin.plot(\n",
    "    column=stats,  # numeric column to base the colors on\n",
    "    cmap=\"Spectral_r\",  # color scheme (matplotlib colormap)\n",
    "    legend=True,\n",
    "    linewidth=0.2,  # boundary width (optional)\n",
    ")"
   ]
  },
  {
   "cell_type": "markdown",
   "metadata": {},
   "source": [
    "### Raster to ISEA4T"
   ]
  },
  {
   "cell_type": "markdown",
   "metadata": {},
   "source": [
    "#### Download and open raster"
   ]
  },
  {
   "cell_type": "code",
   "execution_count": null,
   "metadata": {},
   "outputs": [],
   "source": [
    "from vgrid.utils.io import download_file\n",
    "import rasterio\n",
    "from rasterio.plot import show\n",
    "\n",
    "raster_url = (\n",
    "    \"https://raw.githubusercontent.com/opengeoshub/vopendata/main/raster/rgb.tif\"\n",
    ")\n",
    "raster_file = download_file(raster_url)\n",
    "src = rasterio.open(raster_file, \"r\")\n",
    "print(src.meta)\n",
    "show(src)"
   ]
  },
  {
   "cell_type": "markdown",
   "metadata": {},
   "source": [
    "#### Convert raster to ISEA4T"
   ]
  },
  {
   "cell_type": "code",
   "execution_count": null,
   "metadata": {},
   "outputs": [],
   "source": [
    "# %pip install folium"
   ]
  },
  {
   "cell_type": "code",
   "execution_count": null,
   "metadata": {},
   "outputs": [],
   "source": [
    "from vgrid.conversion.raster2dggs.raster2isea4t import raster2isea4t\n",
    "from vgrid.utils.io import download_file\n",
    "\n",
    "raster_url = (\n",
    "    \"https://raw.githubusercontent.com/opengeoshub/vopendata/main/raster/rgb.tif\"\n",
    ")\n",
    "raster_file = download_file(raster_url)\n",
    "\n",
    "raster_to_isea4t = raster2isea4t(raster_file, output_format=\"gpd\")\n",
    "\n",
    "# Visualize the output\n",
    "import folium\n",
    "\n",
    "m = folium.Map(tiles=\"CartoDB positron\", max_zoom=28)\n",
    "\n",
    "isea4t_layer = folium.GeoJson(\n",
    "    raster_to_isea4t,\n",
    "    style_function=lambda x: {\n",
    "        \"fillColor\": f\"rgb({x['properties']['band_1']}, {x['properties']['band_2']}, {x['properties']['band_3']})\",\n",
    "        \"fillOpacity\": 1,\n",
    "        \"color\": \"black\",\n",
    "        \"weight\": 1,\n",
    "    },\n",
    "    popup=folium.GeoJsonPopup(\n",
    "        fields=[\"isea4t\", \"band_1\", \"band_2\", \"band_3\"],\n",
    "        aliases=[\"ISEA4T ID\", \"Band 1\", \"Band 2\", \"Band 3\"],\n",
    "        style=\"\"\"\n",
    "            background-color: white;\n",
    "            border: 2px solid black;\n",
    "            border-radius: 3px;\n",
    "            box-shadow: 3px;\n",
    "        \"\"\",\n",
    "    ),\n",
    ").add_to(m)\n",
    "\n",
    "m.fit_bounds(isea4t_layer.get_bounds())\n",
    "\n",
    "# Display the map\n",
    "m"
   ]
  },
  {
   "cell_type": "markdown",
   "metadata": {},
   "source": [
    "### ISEA4T Generator"
   ]
  },
  {
   "cell_type": "code",
   "execution_count": null,
   "metadata": {},
   "outputs": [],
   "source": [
    "from vgrid.generator.isea4tgrid import isea4tgrid\n",
    "\n",
    "# isea4t_grid = isea4tgrid(resolution=1, output_format=\"gpd\")\n",
    "isea4t_grid = isea4tgrid(resolution=16,bbox=[106.699007, 10.762811, 106.717674, 10.778649],output_format=\"gpd\")\n",
    "# isea4t_grid = isea4tgrid(resolution=6,bbox=[93.83597510,5.17138775,119.49128538,22.19744870],output_format=\"gpd\") \n",
    "isea4t_grid.plot(edgecolor=\"white\")"
   ]
  },
  {
   "cell_type": "markdown",
   "metadata": {},
   "source": [
    "### ISEA4T Inspect"
   ]
  },
  {
   "cell_type": "code",
   "execution_count": null,
   "metadata": {},
   "outputs": [],
   "source": [
    "from vgrid.stats.isea4tstats import isea4tinspect\n",
    "\n",
    "resolution = 5\n",
    "isea4t_inspect = isea4tinspect(resolution)\n",
    "isea4t_inspect.head()"
   ]
  },
  {
   "cell_type": "markdown",
   "metadata": {},
   "source": [
    "### ISEA4T Normalized Area Histogram"
   ]
  },
  {
   "cell_type": "code",
   "execution_count": null,
   "metadata": {},
   "outputs": [],
   "source": [
    "from vgrid.stats.isea4tstats import isea4t_norm_area_hist\n",
    "\n",
    "isea4t_norm_area_hist(isea4t_inspect)"
   ]
  },
  {
   "cell_type": "markdown",
   "metadata": {},
   "source": [
    "### Distribution of ISEA4T Area Distortions"
   ]
  },
  {
   "cell_type": "code",
   "execution_count": null,
   "metadata": {},
   "outputs": [],
   "source": [
    "from vgrid.stats.isea4tstats import isea4t_norm_area\n",
    "\n",
    "isea4t_norm_area(isea4t_inspect)"
   ]
  },
  {
   "cell_type": "markdown",
   "metadata": {},
   "source": [
    "### ISEA4T IPQ Compactness Histogram"
   ]
  },
  {
   "cell_type": "markdown",
   "metadata": {},
   "source": [
    "Isoperimetric Inequality (IPQ) Compactness (suggested by [Osserman, 1978](https://sites.math.washington.edu/~toro/Courses/20-21/MSF/osserman.pdf)):\n",
    "\n",
    "$$C_{IPQ} = \\frac{4 \\pi A}{p^2}$$\n",
    "The range of the IPQ compactness metric is [0,1]. \n",
    "\n",
    "A circle represents the maximum compactness with a value of 1. \n",
    "\n",
    "As shapes become more irregular or elongated, their compactness decreases toward 0."
   ]
  },
  {
   "cell_type": "code",
   "execution_count": null,
   "metadata": {},
   "outputs": [],
   "source": [
    "from vgrid.stats.isea4tstats import isea4t_compactness_ipq_hist\n",
    "\n",
    "isea4t_compactness_ipq_hist(isea4t_inspect)"
   ]
  },
  {
   "cell_type": "markdown",
   "metadata": {},
   "source": [
    "### Distribution of ISEA4T IPQ Compactness"
   ]
  },
  {
   "cell_type": "code",
   "execution_count": null,
   "metadata": {},
   "outputs": [],
   "source": [
    "from vgrid.stats.isea4tstats import isea4t_compactness_ipq\n",
    "\n",
    "isea4t_compactness_ipq(isea4t_inspect)"
   ]
  },
  {
   "cell_type": "markdown",
   "metadata": {},
   "source": [
    "### ISEA4T Convex hull Compactness Histogram:\n",
    "\n",
    "$$C_{CVH} = \\frac{A}{A_{CVH}}$$\n",
    "\n",
    "\n",
    "The range of the convex hull compactness metric is [0,1]. \n",
    "\n",
    "As shapes become more concave, their convex hull compactness decreases toward 0."
   ]
  },
  {
   "cell_type": "code",
   "execution_count": null,
   "metadata": {},
   "outputs": [],
   "source": [
    "from vgrid.stats.isea4tstats import isea4t_compactness_cvh_hist\n",
    "isea4t_compactness_cvh_hist(isea4t_inspect)"
   ]
  },
  {
   "cell_type": "markdown",
   "metadata": {},
   "source": [
    "### Distribution of ISEA4T Convex hull Compactness"
   ]
  },
  {
   "cell_type": "code",
   "execution_count": null,
   "metadata": {},
   "outputs": [],
   "source": [
    "from vgrid.stats.isea4tstats import isea4t_compactness_cvh\n",
    "isea4t_compactness_cvh(isea4t_inspect)"
   ]
  },
  {
   "cell_type": "markdown",
   "metadata": {},
   "source": [
    "### ISEA4T Statistics"
   ]
  },
  {
   "cell_type": "markdown",
   "metadata": {},
   "source": [
    "Characteristic Length Scale (CLS - suggested by Ralph Kahn): the diameter of a spherical cap of the same cell's area"
   ]
  },
  {
   "cell_type": "code",
   "execution_count": null,
   "metadata": {},
   "outputs": [],
   "source": [
    "from vgrid.stats.isea4tstats import isea4tstats\n",
    "\n",
    "isea4tstats()"
   ]
  }
 ],
 "metadata": {
  "jupytext": {
   "default_lexer": "ipython3"
  },
  "kernelspec": {
   "display_name": ".venv",
   "language": "python",
   "name": "python3"
  }
 },
 "nbformat": 4,
 "nbformat_minor": 5
}
