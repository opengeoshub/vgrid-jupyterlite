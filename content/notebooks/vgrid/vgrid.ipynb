{
 "cells": [
  {
   "cell_type": "markdown",
   "metadata": {},
   "source": [
    "# Vgrid Tutorial\n",
    "\n",
    "This tutorial demonstrates the main features and functionality of the `vgrid` package, a comprehensive toolkit for working with Discrete Global Grid Systems (DGGS) and cell-based geocoding.\n",
    "\n",
    "## Installation\n",
    "\n",
    "First, let's install the package:"
   ]
  },
  {
   "cell_type": "code",
   "execution_count": null,
   "metadata": {},
   "outputs": [],
   "source": [
    "pip install vgrid --upgrade"
   ]
  },
  {
   "cell_type": "markdown",
   "metadata": {},
   "source": [
    "---\n",
    "\n",
    "## 1. DGGS Conversion\n",
    "\n",
    "### 1.1 Converting Latitude/Longitude to DGGS\n",
    "\n",
    "Let's start with converting coordinates to different DGGS formats:"
   ]
  },
  {
   "cell_type": "code",
   "execution_count": null,
   "metadata": {},
   "outputs": [],
   "source": [
    "from vgrid.conversion.latlon2dggs import latlon2h3, latlon2s2, latlon2rhealpix\n",
    "\n",
    "# Example coordinates (Ho Chi Minh City)\n",
    "lat, lon = 10.775276, 106.706797\n",
    "\n",
    "# Convert to H3\n",
    "h3_cell = latlon2h3(lat, lon, 13)\n",
    "print(f\"H3 cell: {h3_cell}\")\n",
    "\n",
    "# Convert to S2\n",
    "s2_cell = latlon2s2(lat, lon, 21)\n",
    "print(f\"S2 cell: {s2_cell}\")\n",
    "\n",
    "# Convert to rHEALPix\n",
    "rhealpix_cell = latlon2rhealpix(lat, lon, 14)\n",
    "print(f\"rHEALPix cell: {rhealpix_cell}\")"
   ]
  },
  {
   "cell_type": "markdown",
   "metadata": {},
   "source": [
    "---\n",
    "\n",
    "### 1.2 Converting DGGS to GeoJSON\n",
    "\n",
    "Let's convert DGGS cells to GeoJSON format for visualization:"
   ]
  },
  {
   "cell_type": "code",
   "execution_count": null,
   "metadata": {},
   "outputs": [],
   "source": [
    "from vgrid.conversion.dggs2geojson import h32geojson, s22geojson\n",
    "import json\n",
    "\n",
    "# Convert H3 cell to GeoJSON\n",
    "h3_geojson = h32geojson(h3_cell)\n",
    "print(\"H3 GeoJSON:\")\n",
    "print(json.dumps(h3_geojson))\n",
    "\n",
    "# Convert S2 cell to GeoJSON\n",
    "s2_geojson = s22geojson(s2_cell)\n",
    "print(\"\\nS2 GeoJSON:\")\n",
    "print(json.dumps(s2_geojson))"
   ]
  },
  {
   "cell_type": "markdown",
   "metadata": {},
   "source": [
    "---\n",
    "\n",
    "### 1.3 Vector to DGGS Conversion\n",
    "\n",
    "Let's convert a polygon to DGGS cells:"
   ]
  },
  {
   "cell_type": "markdown",
   "metadata": {},
   "source": [
    "---\n",
    "\n",
    "## 2. DGGS Operations\n",
    "\n",
    "### 2.1 DGGS Compaction\n",
    "\n",
    "Let's demonstrate how to compact DGGS cells:"
   ]
  },
  {
   "cell_type": "code",
   "execution_count": null,
   "metadata": {},
   "outputs": [],
   "source": [
    "# from vgrid.conversion.dggscompact import h3compact\n",
    "\n",
    "# # Compact H3 cells\n",
    "# compacted_cells = h3compact(h3_cells)\n",
    "# print(f\"Number of cells before compaction: {len(h3_cells)}\")\n",
    "# print(f\"Number of cells after compaction: {len(compacted_cells)}\")"
   ]
  },
  {
   "cell_type": "markdown",
   "metadata": {},
   "source": [
    "---\n",
    "\n",
    "### 2.2 DGGS Expansion\n",
    "\n",
    "Let's demonstrate how to expand DGGS cells to a higher resolution:"
   ]
  },
  {
   "cell_type": "code",
   "execution_count": null,
   "metadata": {},
   "outputs": [],
   "source": [
    "# from vgrid.conversion.dggscompact import h3expand\n",
    "\n",
    "# # Expand H3 cells to a higher resolution\n",
    "# expanded_cells = h3expand(h3_cells, resolution=12)\n",
    "# print(f\"Number of cells before expansion: {len(h3_cells)}\")\n",
    "# print(f\"Number of cells after expansion: {len(expanded_cells)}\")"
   ]
  },
  {
   "cell_type": "markdown",
   "metadata": {},
   "source": [
    "---\n",
    "\n",
    "## 3. DGGS Binning\n",
    "\n",
    "Let's demonstrate how to bin points into DGGS cells:"
   ]
  },
  {
   "cell_type": "code",
   "execution_count": null,
   "metadata": {},
   "outputs": [],
   "source": [
    "# from vgrid.binning import h3bin\n",
    "# import pandas as pd\n",
    "# import json\n",
    "\n",
    "# # Create sample points\n",
    "# points = pd.DataFrame(\n",
    "#     {\"lat\": [10.7, 10.75, 10.8], \"lon\": [106.7, 106.75, 106.8], \"value\": [1, 2, 3]}\n",
    "# )\n",
    "\n",
    "# # Convert to GeoJSON\n",
    "# points_geojson = {\n",
    "#     \"type\": \"FeatureCollection\",\n",
    "#     \"features\": [\n",
    "#         {\n",
    "#             \"type\": \"Feature\",\n",
    "#             \"geometry\": {\n",
    "#                 \"type\": \"Point\",\n",
    "#                 \"coordinates\": [row[\"lon\"], row[\"lat\"]],\n",
    "#             },\n",
    "#             \"properties\": {\"value\": row[\"value\"]},\n",
    "#         }\n",
    "#         for _, row in points.iterrows()\n",
    "#     ],\n",
    "# }\n",
    "\n",
    "# # Bin points into H3 cells\n",
    "# binned_cells = h3bin(points_geojson, resolution=8, stats=\"count\", field=\"value\")\n",
    "# print(\"Binned cells:\")\n",
    "# print(json.dumps(binned_cells, indent=2))"
   ]
  },
  {
   "cell_type": "markdown",
   "metadata": {},
   "source": [
    "---\n",
    "\n",
    "## 4. DGGS Resampling\n",
    "\n",
    "Let's demonstrate how to resample between different DGGS types:"
   ]
  },
  {
   "cell_type": "markdown",
   "metadata": {},
   "source": [
    "---\n",
    "\n",
    "## 5. Visualization\n",
    "\n",
    "Let's visualize some of our DGGS cells using folium:"
   ]
  },
  {
   "cell_type": "code",
   "execution_count": null,
   "metadata": {},
   "outputs": [],
   "source": [
    "# import folium\n",
    "# from vgrid.conversion.latlon2dggs import latlon2h3, latlon2s2, latlon2rhealpix\n",
    "# from vgrid.conversion.dggs2geojson import h32geojson, s22geojson\n",
    "\n",
    "# lat, lon = 10.775276, 106.706797\n",
    "\n",
    "# # Convert to H3\n",
    "# h3_cell = latlon2h3(lat, lon, 3)\n",
    "# cell_geojson = h32geojson(h3_cell)\n",
    "# # Create a map centered on Ho Chi Minh City\n",
    "# m = folium.Map(location=[10.775276, 106.706797], zoom_start=12)\n",
    "# # Add H3 cells\n",
    "# folium.GeoJson(\n",
    "#     cell_geojson,\n",
    "#     style_function=lambda x: {\n",
    "#         \"fillColor\": \"blue\",\n",
    "#         \"color\": \"black\",\n",
    "#         \"weight\": 1,\n",
    "#         \"fillOpacity\": 0.3,\n",
    "#     },\n",
    "# ).add_to(m)\n",
    "\n",
    "# # Display the map\n",
    "# m"
   ]
  },
  {
   "cell_type": "markdown",
   "metadata": {},
   "source": [
    "---\n",
    "\n",
    "## Tips\n",
    "- You may need to install extra dependencies:\n",
    "  ```bash\n",
    "  pip install folium geopandas pandas\n",
    "  ```\n",
    "- If you want to add more examples (e.g., raster conversion, other DGGS types), just add more code blocks following the same pattern."
   ]
  }
 ],
 "metadata": {
  "jupytext": {
   "default_lexer": "ipython3",
   "notebook_metadata_filter": "-all"
  }
 },
 "nbformat": 4,
 "nbformat_minor": 5
}
